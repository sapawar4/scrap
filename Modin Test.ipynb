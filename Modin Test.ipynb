{
 "cells": [
  {
   "cell_type": "code",
   "execution_count": 1,
   "id": "1290c132",
   "metadata": {
    "execution": {
     "iopub.execute_input": "2022-08-04T16:28:58.335504Z",
     "iopub.status.busy": "2022-08-04T16:28:58.335007Z",
     "iopub.status.idle": "2022-08-04T16:28:58.347451Z",
     "shell.execute_reply": "2022-08-04T16:28:58.346054Z",
     "shell.execute_reply.started": "2022-08-04T16:28:58.335420Z"
    }
   },
   "outputs": [],
   "source": [
    "path = 'https://www.gstatic.com/covid19/mobility/Global_Mobility_Report.csv'"
   ]
  },
  {
   "cell_type": "code",
   "execution_count": 2,
   "id": "4de47b4f",
   "metadata": {
    "collapsed": true,
    "execution": {
     "iopub.execute_input": "2022-08-04T16:29:00.337281Z",
     "iopub.status.busy": "2022-08-04T16:29:00.336865Z",
     "iopub.status.idle": "2022-08-04T16:29:19.038398Z",
     "shell.execute_reply": "2022-08-04T16:29:19.036817Z",
     "shell.execute_reply.started": "2022-08-04T16:29:00.337254Z"
    }
   },
   "outputs": [
    {
     "name": "stdout",
     "output_type": "stream",
     "text": [
      "Collecting modin[dask]\n",
      "  Downloading modin-0.15.2-py3-none-any.whl (868 kB)\n",
      "\u001b[2K     \u001b[90m━━━━━━━━━━━━━━━━━━━━━━━━━━━━━━━━━━━━━━\u001b[0m \u001b[32m868.9/868.9 kB\u001b[0m \u001b[31m17.3 MB/s\u001b[0m eta \u001b[36m0:00:00\u001b[0ma \u001b[36m0:00:01\u001b[0m\n",
      "\u001b[?25hRequirement already satisfied: fsspec in /usr/local/lib/python3.9/dist-packages (from modin[dask]) (2022.5.0)\n",
      "Requirement already satisfied: numpy>=1.18.5 in /usr/local/lib/python3.9/dist-packages (from modin[dask]) (1.23.1)\n",
      "Requirement already satisfied: psutil in /usr/local/lib/python3.9/dist-packages (from modin[dask]) (5.9.1)\n",
      "Requirement already satisfied: packaging in /usr/local/lib/python3.9/dist-packages (from modin[dask]) (21.3)\n",
      "Requirement already satisfied: pandas==1.4.3 in /usr/local/lib/python3.9/dist-packages (from modin[dask]) (1.4.3)\n",
      "Collecting dask<2022.2.0,>=2.22.0\n",
      "  Downloading dask-2022.1.1-py3-none-any.whl (1.1 MB)\n",
      "\u001b[2K     \u001b[90m━━━━━━━━━━━━━━━━━━━━━━━━━━━━━━━━━━━━━━━━\u001b[0m \u001b[32m1.1/1.1 MB\u001b[0m \u001b[31m20.3 MB/s\u001b[0m eta \u001b[36m0:00:00\u001b[0ma \u001b[36m0:00:01\u001b[0m\n",
      "\u001b[?25hCollecting distributed<2022.2.0,>=2.22.0\n",
      "  Downloading distributed-2022.1.1-py3-none-any.whl (830 kB)\n",
      "\u001b[2K     \u001b[90m━━━━━━━━━━━━━━━━━━━━━━━━━━━━━━━━━━━━━━\u001b[0m \u001b[32m830.7/830.7 kB\u001b[0m \u001b[31m15.7 MB/s\u001b[0m eta \u001b[36m0:00:00\u001b[0ma \u001b[36m0:00:01\u001b[0m\n",
      "\u001b[?25hRequirement already satisfied: python-dateutil>=2.8.1 in /usr/local/lib/python3.9/dist-packages (from pandas==1.4.3->modin[dask]) (2.8.2)\n",
      "Requirement already satisfied: pytz>=2020.1 in /usr/local/lib/python3.9/dist-packages (from pandas==1.4.3->modin[dask]) (2022.1)\n",
      "Collecting partd>=0.3.10\n",
      "  Downloading partd-1.2.0-py3-none-any.whl (19 kB)\n",
      "Requirement already satisfied: pyyaml>=5.3.1 in /usr/local/lib/python3.9/dist-packages (from dask<2022.2.0,>=2.22.0->modin[dask]) (5.4.1)\n",
      "Collecting toolz>=0.8.2\n",
      "  Downloading toolz-0.12.0-py3-none-any.whl (55 kB)\n",
      "\u001b[2K     \u001b[90m━━━━━━━━━━━━━━━━━━━━━━━━━━━━━━━━━━━━━━━━\u001b[0m \u001b[32m55.8/55.8 kB\u001b[0m \u001b[31m11.4 MB/s\u001b[0m eta \u001b[36m0:00:00\u001b[0m\n",
      "\u001b[?25hRequirement already satisfied: cloudpickle>=1.1.1 in /usr/local/lib/python3.9/dist-packages (from dask<2022.2.0,>=2.22.0->modin[dask]) (2.1.0)\n",
      "Collecting zict>=0.1.3\n",
      "  Downloading zict-2.2.0-py2.py3-none-any.whl (23 kB)\n",
      "Collecting msgpack>=0.6.0\n",
      "  Downloading msgpack-1.0.4-cp39-cp39-manylinux_2_17_x86_64.manylinux2014_x86_64.whl (322 kB)\n",
      "\u001b[2K     \u001b[90m━━━━━━━━━━━━━━━━━━━━━━━━━━━━━━━━━━━━━━\u001b[0m \u001b[32m322.4/322.4 kB\u001b[0m \u001b[31m20.7 MB/s\u001b[0m eta \u001b[36m0:00:00\u001b[0m\n",
      "\u001b[?25hCollecting sortedcontainers!=2.0.0,!=2.0.1\n",
      "  Downloading sortedcontainers-2.4.0-py2.py3-none-any.whl (29 kB)\n",
      "Collecting tblib>=1.6.0\n",
      "  Downloading tblib-1.7.0-py2.py3-none-any.whl (12 kB)\n",
      "Requirement already satisfied: click>=6.6 in /usr/local/lib/python3.9/dist-packages (from distributed<2022.2.0,>=2.22.0->modin[dask]) (8.1.3)\n",
      "Requirement already satisfied: tornado>=6.0.3 in /usr/local/lib/python3.9/dist-packages (from distributed<2022.2.0,>=2.22.0->modin[dask]) (6.2)\n",
      "Requirement already satisfied: setuptools in /usr/local/lib/python3.9/dist-packages (from distributed<2022.2.0,>=2.22.0->modin[dask]) (63.1.0)\n",
      "Requirement already satisfied: jinja2 in /usr/local/lib/python3.9/dist-packages (from distributed<2022.2.0,>=2.22.0->modin[dask]) (3.1.2)\n",
      "Requirement already satisfied: pyparsing!=3.0.5,>=2.0.2 in /usr/local/lib/python3.9/dist-packages (from packaging->modin[dask]) (3.0.9)\n",
      "Collecting locket\n",
      "  Downloading locket-1.0.0-py2.py3-none-any.whl (4.4 kB)\n",
      "Requirement already satisfied: six>=1.5 in /usr/lib/python3/dist-packages (from python-dateutil>=2.8.1->pandas==1.4.3->modin[dask]) (1.14.0)\n",
      "Collecting heapdict\n",
      "  Downloading HeapDict-1.0.1-py3-none-any.whl (3.9 kB)\n",
      "Requirement already satisfied: MarkupSafe>=2.0 in /usr/local/lib/python3.9/dist-packages (from jinja2->distributed<2022.2.0,>=2.22.0->modin[dask]) (2.1.1)\n",
      "Installing collected packages: sortedcontainers, msgpack, heapdict, zict, toolz, tblib, locket, partd, modin, dask, distributed\n",
      "Successfully installed dask-2022.1.1 distributed-2022.1.1 heapdict-1.0.1 locket-1.0.0 modin-0.15.2 msgpack-1.0.4 partd-1.2.0 sortedcontainers-2.4.0 tblib-1.7.0 toolz-0.12.0 zict-2.2.0\n",
      "\u001b[33mWARNING: Running pip as the 'root' user can result in broken permissions and conflicting behaviour with the system package manager. It is recommended to use a virtual environment instead: https://pip.pypa.io/warnings/venv\u001b[0m\u001b[33m\n",
      "\u001b[0m--- Logging error ---\n",
      "Traceback (most recent call last):\n",
      "  File \"/usr/local/lib/python3.9/dist-packages/pip/_internal/utils/logging.py\", line 177, in emit\n",
      "    self.console.print(renderable, overflow=\"ignore\", crop=False, style=style)\n",
      "  File \"/usr/local/lib/python3.9/dist-packages/pip/_vendor/rich/console.py\", line 1673, in print\n",
      "    extend(render(renderable, render_options))\n",
      "  File \"/usr/local/lib/python3.9/dist-packages/pip/_vendor/rich/console.py\", line 1305, in render\n",
      "    for render_output in iter_render:\n",
      "  File \"/usr/local/lib/python3.9/dist-packages/pip/_internal/utils/logging.py\", line 134, in __rich_console__\n",
      "    for line in lines:\n",
      "  File \"/usr/local/lib/python3.9/dist-packages/pip/_vendor/rich/segment.py\", line 249, in split_lines\n",
      "    for segment in segments:\n",
      "  File \"/usr/local/lib/python3.9/dist-packages/pip/_vendor/rich/console.py\", line 1283, in render\n",
      "    renderable = rich_cast(renderable)\n",
      "  File \"/usr/local/lib/python3.9/dist-packages/pip/_vendor/rich/protocol.py\", line 36, in rich_cast\n",
      "    renderable = cast_method()\n",
      "  File \"/usr/local/lib/python3.9/dist-packages/pip/_internal/self_outdated_check.py\", line 130, in __rich__\n",
      "    pip_cmd = get_best_invocation_for_this_pip()\n",
      "  File \"/usr/local/lib/python3.9/dist-packages/pip/_internal/utils/entrypoints.py\", line 58, in get_best_invocation_for_this_pip\n",
      "    if found_executable and os.path.samefile(\n",
      "  File \"/usr/lib/python3.9/genericpath.py\", line 101, in samefile\n",
      "    s2 = os.stat(f2)\n",
      "FileNotFoundError: [Errno 2] No such file or directory: '/usr/bin/pip'\n",
      "Call stack:\n",
      "  File \"/usr/local/bin/pip\", line 8, in <module>\n",
      "    sys.exit(main())\n",
      "  File \"/usr/local/lib/python3.9/dist-packages/pip/_internal/cli/main.py\", line 70, in main\n",
      "    return command.main(cmd_args)\n",
      "  File \"/usr/local/lib/python3.9/dist-packages/pip/_internal/cli/base_command.py\", line 101, in main\n",
      "    return self._main(args)\n",
      "  File \"/usr/local/lib/python3.9/dist-packages/pip/_internal/cli/base_command.py\", line 223, in _main\n",
      "    self.handle_pip_version_check(options)\n",
      "  File \"/usr/local/lib/python3.9/dist-packages/pip/_internal/cli/req_command.py\", line 190, in handle_pip_version_check\n",
      "    pip_self_version_check(session, options)\n",
      "  File \"/usr/local/lib/python3.9/dist-packages/pip/_internal/self_outdated_check.py\", line 236, in pip_self_version_check\n",
      "    logger.warning(\"[present-rich] %s\", upgrade_prompt)\n",
      "  File \"/usr/lib/python3.9/logging/__init__.py\", line 1458, in warning\n",
      "    self._log(WARNING, msg, args, **kwargs)\n",
      "  File \"/usr/lib/python3.9/logging/__init__.py\", line 1589, in _log\n",
      "    self.handle(record)\n",
      "  File \"/usr/lib/python3.9/logging/__init__.py\", line 1599, in handle\n",
      "    self.callHandlers(record)\n",
      "  File \"/usr/lib/python3.9/logging/__init__.py\", line 1661, in callHandlers\n",
      "    hdlr.handle(record)\n",
      "  File \"/usr/lib/python3.9/logging/__init__.py\", line 952, in handle\n",
      "    self.emit(record)\n",
      "  File \"/usr/local/lib/python3.9/dist-packages/pip/_internal/utils/logging.py\", line 179, in emit\n",
      "    self.handleError(record)\n",
      "Message: '[present-rich] %s'\n",
      "Arguments: (UpgradePrompt(old='22.2.1', new='22.2.2'),)\n",
      "Collecting polars\n",
      "  Downloading polars-0.13.60-cp37-abi3-manylinux_2_12_x86_64.manylinux2010_x86_64.whl (13.0 MB)\n",
      "\u001b[2K     \u001b[90m━━━━━━━━━━━━━━━━━━━━━━━━━━━━━━━━━━━━━━━━\u001b[0m \u001b[32m13.0/13.0 MB\u001b[0m \u001b[31m19.6 MB/s\u001b[0m eta \u001b[36m0:00:00\u001b[0m00:01\u001b[0m00:01\u001b[0m\n",
      "\u001b[?25hRequirement already satisfied: typing_extensions>=4.0.0 in /usr/local/lib/python3.9/dist-packages (from polars) (4.3.0)\n",
      "Installing collected packages: polars\n",
      "Successfully installed polars-0.13.60\n",
      "\u001b[33mWARNING: Running pip as the 'root' user can result in broken permissions and conflicting behaviour with the system package manager. It is recommended to use a virtual environment instead: https://pip.pypa.io/warnings/venv\u001b[0m\u001b[33m\n",
      "\u001b[0m--- Logging error ---\n",
      "Traceback (most recent call last):\n",
      "  File \"/usr/local/lib/python3.9/dist-packages/pip/_internal/utils/logging.py\", line 177, in emit\n",
      "    self.console.print(renderable, overflow=\"ignore\", crop=False, style=style)\n",
      "  File \"/usr/local/lib/python3.9/dist-packages/pip/_vendor/rich/console.py\", line 1673, in print\n",
      "    extend(render(renderable, render_options))\n",
      "  File \"/usr/local/lib/python3.9/dist-packages/pip/_vendor/rich/console.py\", line 1305, in render\n",
      "    for render_output in iter_render:\n",
      "  File \"/usr/local/lib/python3.9/dist-packages/pip/_internal/utils/logging.py\", line 134, in __rich_console__\n",
      "    for line in lines:\n",
      "  File \"/usr/local/lib/python3.9/dist-packages/pip/_vendor/rich/segment.py\", line 249, in split_lines\n",
      "    for segment in segments:\n",
      "  File \"/usr/local/lib/python3.9/dist-packages/pip/_vendor/rich/console.py\", line 1283, in render\n",
      "    renderable = rich_cast(renderable)\n",
      "  File \"/usr/local/lib/python3.9/dist-packages/pip/_vendor/rich/protocol.py\", line 36, in rich_cast\n",
      "    renderable = cast_method()\n",
      "  File \"/usr/local/lib/python3.9/dist-packages/pip/_internal/self_outdated_check.py\", line 130, in __rich__\n",
      "    pip_cmd = get_best_invocation_for_this_pip()\n",
      "  File \"/usr/local/lib/python3.9/dist-packages/pip/_internal/utils/entrypoints.py\", line 58, in get_best_invocation_for_this_pip\n",
      "    if found_executable and os.path.samefile(\n",
      "  File \"/usr/lib/python3.9/genericpath.py\", line 101, in samefile\n",
      "    s2 = os.stat(f2)\n",
      "FileNotFoundError: [Errno 2] No such file or directory: '/usr/bin/pip'\n",
      "Call stack:\n",
      "  File \"/usr/local/bin/pip\", line 8, in <module>\n",
      "    sys.exit(main())\n",
      "  File \"/usr/local/lib/python3.9/dist-packages/pip/_internal/cli/main.py\", line 70, in main\n",
      "    return command.main(cmd_args)\n",
      "  File \"/usr/local/lib/python3.9/dist-packages/pip/_internal/cli/base_command.py\", line 101, in main\n",
      "    return self._main(args)\n",
      "  File \"/usr/local/lib/python3.9/dist-packages/pip/_internal/cli/base_command.py\", line 223, in _main\n",
      "    self.handle_pip_version_check(options)\n",
      "  File \"/usr/local/lib/python3.9/dist-packages/pip/_internal/cli/req_command.py\", line 190, in handle_pip_version_check\n",
      "    pip_self_version_check(session, options)\n",
      "  File \"/usr/local/lib/python3.9/dist-packages/pip/_internal/self_outdated_check.py\", line 236, in pip_self_version_check\n",
      "    logger.warning(\"[present-rich] %s\", upgrade_prompt)\n",
      "  File \"/usr/lib/python3.9/logging/__init__.py\", line 1458, in warning\n",
      "    self._log(WARNING, msg, args, **kwargs)\n",
      "  File \"/usr/lib/python3.9/logging/__init__.py\", line 1589, in _log\n",
      "    self.handle(record)\n",
      "  File \"/usr/lib/python3.9/logging/__init__.py\", line 1599, in handle\n",
      "    self.callHandlers(record)\n",
      "  File \"/usr/lib/python3.9/logging/__init__.py\", line 1661, in callHandlers\n",
      "    hdlr.handle(record)\n",
      "  File \"/usr/lib/python3.9/logging/__init__.py\", line 952, in handle\n",
      "    self.emit(record)\n",
      "  File \"/usr/local/lib/python3.9/dist-packages/pip/_internal/utils/logging.py\", line 179, in emit\n",
      "    self.handleError(record)\n",
      "Message: '[present-rich] %s'\n",
      "Arguments: (UpgradePrompt(old='22.2.1', new='22.2.2'),)\n",
      "Requirement already satisfied: pyarrow in /usr/local/lib/python3.9/dist-packages (8.0.0)\n",
      "Requirement already satisfied: numpy>=1.16.6 in /usr/local/lib/python3.9/dist-packages (from pyarrow) (1.23.1)\n",
      "\u001b[33mWARNING: Running pip as the 'root' user can result in broken permissions and conflicting behaviour with the system package manager. It is recommended to use a virtual environment instead: https://pip.pypa.io/warnings/venv\u001b[0m\u001b[33m\n",
      "\u001b[0m--- Logging error ---\n",
      "Traceback (most recent call last):\n",
      "  File \"/usr/local/lib/python3.9/dist-packages/pip/_internal/utils/logging.py\", line 177, in emit\n",
      "    self.console.print(renderable, overflow=\"ignore\", crop=False, style=style)\n",
      "  File \"/usr/local/lib/python3.9/dist-packages/pip/_vendor/rich/console.py\", line 1673, in print\n",
      "    extend(render(renderable, render_options))\n",
      "  File \"/usr/local/lib/python3.9/dist-packages/pip/_vendor/rich/console.py\", line 1305, in render\n",
      "    for render_output in iter_render:\n",
      "  File \"/usr/local/lib/python3.9/dist-packages/pip/_internal/utils/logging.py\", line 134, in __rich_console__\n",
      "    for line in lines:\n",
      "  File \"/usr/local/lib/python3.9/dist-packages/pip/_vendor/rich/segment.py\", line 249, in split_lines\n",
      "    for segment in segments:\n",
      "  File \"/usr/local/lib/python3.9/dist-packages/pip/_vendor/rich/console.py\", line 1283, in render\n",
      "    renderable = rich_cast(renderable)\n",
      "  File \"/usr/local/lib/python3.9/dist-packages/pip/_vendor/rich/protocol.py\", line 36, in rich_cast\n",
      "    renderable = cast_method()\n",
      "  File \"/usr/local/lib/python3.9/dist-packages/pip/_internal/self_outdated_check.py\", line 130, in __rich__\n",
      "    pip_cmd = get_best_invocation_for_this_pip()\n",
      "  File \"/usr/local/lib/python3.9/dist-packages/pip/_internal/utils/entrypoints.py\", line 58, in get_best_invocation_for_this_pip\n",
      "    if found_executable and os.path.samefile(\n",
      "  File \"/usr/lib/python3.9/genericpath.py\", line 101, in samefile\n",
      "    s2 = os.stat(f2)\n",
      "FileNotFoundError: [Errno 2] No such file or directory: '/usr/bin/pip'\n",
      "Call stack:\n",
      "  File \"/usr/local/bin/pip\", line 8, in <module>\n",
      "    sys.exit(main())\n",
      "  File \"/usr/local/lib/python3.9/dist-packages/pip/_internal/cli/main.py\", line 70, in main\n",
      "    return command.main(cmd_args)\n",
      "  File \"/usr/local/lib/python3.9/dist-packages/pip/_internal/cli/base_command.py\", line 101, in main\n",
      "    return self._main(args)\n",
      "  File \"/usr/local/lib/python3.9/dist-packages/pip/_internal/cli/base_command.py\", line 223, in _main\n",
      "    self.handle_pip_version_check(options)\n",
      "  File \"/usr/local/lib/python3.9/dist-packages/pip/_internal/cli/req_command.py\", line 190, in handle_pip_version_check\n",
      "    pip_self_version_check(session, options)\n",
      "  File \"/usr/local/lib/python3.9/dist-packages/pip/_internal/self_outdated_check.py\", line 236, in pip_self_version_check\n",
      "    logger.warning(\"[present-rich] %s\", upgrade_prompt)\n",
      "  File \"/usr/lib/python3.9/logging/__init__.py\", line 1458, in warning\n",
      "    self._log(WARNING, msg, args, **kwargs)\n",
      "  File \"/usr/lib/python3.9/logging/__init__.py\", line 1589, in _log\n",
      "    self.handle(record)\n",
      "  File \"/usr/lib/python3.9/logging/__init__.py\", line 1599, in handle\n",
      "    self.callHandlers(record)\n",
      "  File \"/usr/lib/python3.9/logging/__init__.py\", line 1661, in callHandlers\n",
      "    hdlr.handle(record)\n",
      "  File \"/usr/lib/python3.9/logging/__init__.py\", line 952, in handle\n",
      "    self.emit(record)\n",
      "  File \"/usr/local/lib/python3.9/dist-packages/pip/_internal/utils/logging.py\", line 179, in emit\n",
      "    self.handleError(record)\n",
      "Message: '[present-rich] %s'\n",
      "Arguments: (UpgradePrompt(old='22.2.1', new='22.2.2'),)\n"
     ]
    }
   ],
   "source": [
    "!pip install modin[dask]\n",
    "!pip install polars\n",
    "!pip install pyarrow"
   ]
  },
  {
   "cell_type": "code",
   "execution_count": 3,
   "id": "7876642f",
   "metadata": {
    "execution": {
     "iopub.execute_input": "2022-08-04T16:29:23.412660Z",
     "iopub.status.busy": "2022-08-04T16:29:23.412142Z",
     "iopub.status.idle": "2022-08-04T16:30:18.014731Z",
     "shell.execute_reply": "2022-08-04T16:30:18.013273Z",
     "shell.execute_reply.started": "2022-08-04T16:29:23.412627Z"
    }
   },
   "outputs": [
    {
     "name": "stdout",
     "output_type": "stream",
     "text": [
      "--2022-08-04 16:29:24--  https://www.gstatic.com/covid19/mobility/Global_Mobility_Report.csv\n",
      "Resolving www.gstatic.com (www.gstatic.com)... 142.251.40.227, 2607:f8b0:4006:823::2003\n",
      "Connecting to www.gstatic.com (www.gstatic.com)|142.251.40.227|:443... connected.\n",
      "HTTP request sent, awaiting response... 200 OK\n",
      "Length: 1056783891 (1008M) [text/csv]\n",
      "Saving to: ‘www.gstatic.com/covid19/mobility/Global_Mobility_Report.csv’\n",
      "\n",
      "www.gstatic.com/cov 100%[===================>]   1008M  19.8MB/s    in 53s     \n",
      "\n",
      "2022-08-04 16:30:17 (18.9 MB/s) - ‘www.gstatic.com/covid19/mobility/Global_Mobility_Report.csv’ saved [1056783891/1056783891]\n",
      "\n",
      "FINISHED --2022-08-04 16:30:17--\n",
      "Total wall clock time: 54s\n",
      "Downloaded: 1 files, 1008M in 53s (18.9 MB/s)\n"
     ]
    }
   ],
   "source": [
    "!wget -r -nc https://www.gstatic.com/covid19/mobility/Global_Mobility_Report.csv"
   ]
  },
  {
   "cell_type": "code",
   "execution_count": 4,
   "id": "b12ff2b9",
   "metadata": {
    "execution": {
     "iopub.execute_input": "2022-08-04T16:30:29.427370Z",
     "iopub.status.busy": "2022-08-04T16:30:29.426979Z",
     "iopub.status.idle": "2022-08-04T16:30:30.575031Z",
     "shell.execute_reply": "2022-08-04T16:30:30.573663Z",
     "shell.execute_reply.started": "2022-08-04T16:30:29.427340Z"
    }
   },
   "outputs": [],
   "source": [
    "import polars as pl\n",
    "import pyarrow as pa\n",
    "import pandas as pd\n",
    "import dask\n",
    "import dask.dataframe as dd\n",
    "import modin.pandas as md"
   ]
  },
  {
   "cell_type": "code",
   "execution_count": 5,
   "id": "9443e4de",
   "metadata": {
    "execution": {
     "iopub.execute_input": "2022-08-04T16:30:31.632389Z",
     "iopub.status.busy": "2022-08-04T16:30:31.630739Z",
     "iopub.status.idle": "2022-08-04T16:30:33.199241Z",
     "shell.execute_reply": "2022-08-04T16:30:33.197838Z",
     "shell.execute_reply.started": "2022-08-04T16:30:31.632305Z"
    }
   },
   "outputs": [
    {
     "data": {
      "text/html": [
       "<div>\n",
       "<style scoped>\n",
       "    .dataframe tbody tr th:only-of-type {\n",
       "        vertical-align: middle;\n",
       "    }\n",
       "\n",
       "    .dataframe tbody tr th {\n",
       "        vertical-align: top;\n",
       "    }\n",
       "\n",
       "    .dataframe thead th {\n",
       "        text-align: right;\n",
       "    }\n",
       "</style>\n",
       "<table border=\"1\" class=\"dataframe\">\n",
       "  <thead>\n",
       "    <tr style=\"text-align: right;\">\n",
       "      <th></th>\n",
       "      <th>country_region_code</th>\n",
       "      <th>country_region</th>\n",
       "      <th>sub_region_1</th>\n",
       "      <th>sub_region_2</th>\n",
       "      <th>metro_area</th>\n",
       "      <th>iso_3166_2_code</th>\n",
       "      <th>census_fips_code</th>\n",
       "      <th>place_id</th>\n",
       "      <th>date</th>\n",
       "      <th>retail_and_recreation_percent_change_from_baseline</th>\n",
       "      <th>grocery_and_pharmacy_percent_change_from_baseline</th>\n",
       "      <th>parks_percent_change_from_baseline</th>\n",
       "      <th>transit_stations_percent_change_from_baseline</th>\n",
       "      <th>workplaces_percent_change_from_baseline</th>\n",
       "      <th>residential_percent_change_from_baseline</th>\n",
       "    </tr>\n",
       "  </thead>\n",
       "  <tbody>\n",
       "    <tr>\n",
       "      <th>0</th>\n",
       "      <td>AE</td>\n",
       "      <td>United Arab Emirates</td>\n",
       "      <td>NaN</td>\n",
       "      <td>NaN</td>\n",
       "      <td>NaN</td>\n",
       "      <td>NaN</td>\n",
       "      <td>NaN</td>\n",
       "      <td>ChIJvRKrsd9IXj4RpwoIwFYv0zM</td>\n",
       "      <td>2020-02-15</td>\n",
       "      <td>0</td>\n",
       "      <td>4</td>\n",
       "      <td>5</td>\n",
       "      <td>0</td>\n",
       "      <td>2</td>\n",
       "      <td>1</td>\n",
       "    </tr>\n",
       "    <tr>\n",
       "      <th>1</th>\n",
       "      <td>AE</td>\n",
       "      <td>United Arab Emirates</td>\n",
       "      <td>NaN</td>\n",
       "      <td>NaN</td>\n",
       "      <td>NaN</td>\n",
       "      <td>NaN</td>\n",
       "      <td>NaN</td>\n",
       "      <td>ChIJvRKrsd9IXj4RpwoIwFYv0zM</td>\n",
       "      <td>2020-02-16</td>\n",
       "      <td>1</td>\n",
       "      <td>4</td>\n",
       "      <td>4</td>\n",
       "      <td>1</td>\n",
       "      <td>2</td>\n",
       "      <td>1</td>\n",
       "    </tr>\n",
       "    <tr>\n",
       "      <th>2</th>\n",
       "      <td>AE</td>\n",
       "      <td>United Arab Emirates</td>\n",
       "      <td>NaN</td>\n",
       "      <td>NaN</td>\n",
       "      <td>NaN</td>\n",
       "      <td>NaN</td>\n",
       "      <td>NaN</td>\n",
       "      <td>ChIJvRKrsd9IXj4RpwoIwFYv0zM</td>\n",
       "      <td>2020-02-17</td>\n",
       "      <td>-1</td>\n",
       "      <td>1</td>\n",
       "      <td>5</td>\n",
       "      <td>1</td>\n",
       "      <td>2</td>\n",
       "      <td>1</td>\n",
       "    </tr>\n",
       "  </tbody>\n",
       "</table>\n",
       "</div>"
      ],
      "text/plain": [
       "  country_region_code        country_region  sub_region_1  sub_region_2  \\\n",
       "0                  AE  United Arab Emirates           NaN           NaN   \n",
       "1                  AE  United Arab Emirates           NaN           NaN   \n",
       "2                  AE  United Arab Emirates           NaN           NaN   \n",
       "\n",
       "   metro_area  iso_3166_2_code  census_fips_code                     place_id  \\\n",
       "0         NaN              NaN               NaN  ChIJvRKrsd9IXj4RpwoIwFYv0zM   \n",
       "1         NaN              NaN               NaN  ChIJvRKrsd9IXj4RpwoIwFYv0zM   \n",
       "2         NaN              NaN               NaN  ChIJvRKrsd9IXj4RpwoIwFYv0zM   \n",
       "\n",
       "         date  retail_and_recreation_percent_change_from_baseline  \\\n",
       "0  2020-02-15                                                  0    \n",
       "1  2020-02-16                                                  1    \n",
       "2  2020-02-17                                                 -1    \n",
       "\n",
       "   grocery_and_pharmacy_percent_change_from_baseline  \\\n",
       "0                                                  4   \n",
       "1                                                  4   \n",
       "2                                                  1   \n",
       "\n",
       "   parks_percent_change_from_baseline  \\\n",
       "0                                   5   \n",
       "1                                   4   \n",
       "2                                   5   \n",
       "\n",
       "   transit_stations_percent_change_from_baseline  \\\n",
       "0                                              0   \n",
       "1                                              1   \n",
       "2                                              1   \n",
       "\n",
       "   workplaces_percent_change_from_baseline  \\\n",
       "0                                        2   \n",
       "1                                        2   \n",
       "2                                        2   \n",
       "\n",
       "   residential_percent_change_from_baseline  \n",
       "0                                         1  \n",
       "1                                         1  \n",
       "2                                         1  "
      ]
     },
     "execution_count": 5,
     "metadata": {},
     "output_type": "execute_result"
    }
   ],
   "source": [
    "pd.read_csv('Global_Mobility_Report.csv', nrows=3)"
   ]
  },
  {
   "cell_type": "code",
   "execution_count": 6,
   "id": "1261d9ea",
   "metadata": {
    "execution": {
     "iopub.execute_input": "2022-08-04T16:30:44.762488Z",
     "iopub.status.busy": "2022-08-04T16:30:44.761397Z",
     "iopub.status.idle": "2022-08-04T16:30:44.776519Z",
     "shell.execute_reply": "2022-08-04T16:30:44.775311Z",
     "shell.execute_reply.started": "2022-08-04T16:30:44.762315Z"
    }
   },
   "outputs": [
    {
     "data": {
      "text/plain": [
       "Index(['country_region_code', 'country_region', 'sub_region_1', 'sub_region_2',\n",
       "       'metro_area', 'iso_3166_2_code', 'census_fips_code', 'place_id', 'date',\n",
       "       'retail_and_recreation_percent_change_from_baseline',\n",
       "       'grocery_and_pharmacy_percent_change_from_baseline',\n",
       "       'parks_percent_change_from_baseline',\n",
       "       'transit_stations_percent_change_from_baseline',\n",
       "       'workplaces_percent_change_from_baseline',\n",
       "       'residential_percent_change_from_baseline'],\n",
       "      dtype='object')"
      ]
     },
     "execution_count": 6,
     "metadata": {},
     "output_type": "execute_result"
    }
   ],
   "source": [
    "pd.read_csv('Global_Mobility_Report.csv', nrows=3).columns"
   ]
  },
  {
   "cell_type": "code",
   "execution_count": 7,
   "id": "2b54b8a5",
   "metadata": {
    "execution": {
     "iopub.execute_input": "2022-08-04T16:30:48.276400Z",
     "iopub.status.busy": "2022-08-04T16:30:48.275868Z",
     "iopub.status.idle": "2022-08-04T16:30:48.282065Z",
     "shell.execute_reply": "2022-08-04T16:30:48.281067Z",
     "shell.execute_reply.started": "2022-08-04T16:30:48.276400Z"
    }
   },
   "outputs": [],
   "source": [
    "columns = ['country_region_code', 'country_region', 'date',\n",
    "       'retail_and_recreation_percent_change_from_baseline',\n",
    "       'grocery_and_pharmacy_percent_change_from_baseline',\n",
    "       'parks_percent_change_from_baseline',\n",
    "       'transit_stations_percent_change_from_baseline',\n",
    "       'workplaces_percent_change_from_baseline',\n",
    "       'residential_percent_change_from_baseline']"
   ]
  },
  {
   "cell_type": "code",
   "execution_count": 8,
   "id": "883de583",
   "metadata": {
    "execution": {
     "iopub.execute_input": "2022-08-04T16:30:50.649592Z",
     "iopub.status.busy": "2022-08-04T16:30:50.649238Z",
     "iopub.status.idle": "2022-08-04T16:30:52.527845Z",
     "shell.execute_reply": "2022-08-04T16:30:52.526703Z",
     "shell.execute_reply.started": "2022-08-04T16:30:50.649565Z"
    }
   },
   "outputs": [
    {
     "data": {
      "text/html": [
       "<div>\n",
       "<style scoped>\n",
       "    .dataframe tbody tr th:only-of-type {\n",
       "        vertical-align: middle;\n",
       "    }\n",
       "\n",
       "    .dataframe tbody tr th {\n",
       "        vertical-align: top;\n",
       "    }\n",
       "\n",
       "    .dataframe thead th {\n",
       "        text-align: right;\n",
       "    }\n",
       "</style>\n",
       "<table border=\"1\" class=\"dataframe\">\n",
       "  <thead>\n",
       "    <tr style=\"text-align: right;\">\n",
       "      <th></th>\n",
       "      <th>country_region_code</th>\n",
       "      <th>country_region</th>\n",
       "      <th>date</th>\n",
       "      <th>retail_and_recreation_percent_change_from_baseline</th>\n",
       "      <th>grocery_and_pharmacy_percent_change_from_baseline</th>\n",
       "      <th>parks_percent_change_from_baseline</th>\n",
       "      <th>transit_stations_percent_change_from_baseline</th>\n",
       "      <th>workplaces_percent_change_from_baseline</th>\n",
       "      <th>residential_percent_change_from_baseline</th>\n",
       "    </tr>\n",
       "  </thead>\n",
       "  <tbody>\n",
       "    <tr>\n",
       "      <th>0</th>\n",
       "      <td>AE</td>\n",
       "      <td>United Arab Emirates</td>\n",
       "      <td>2020-02-15</td>\n",
       "      <td>0.0</td>\n",
       "      <td>4.0</td>\n",
       "      <td>5.0</td>\n",
       "      <td>0.0</td>\n",
       "      <td>2.0</td>\n",
       "      <td>1.0</td>\n",
       "    </tr>\n",
       "    <tr>\n",
       "      <th>1</th>\n",
       "      <td>AE</td>\n",
       "      <td>United Arab Emirates</td>\n",
       "      <td>2020-02-16</td>\n",
       "      <td>1.0</td>\n",
       "      <td>4.0</td>\n",
       "      <td>4.0</td>\n",
       "      <td>1.0</td>\n",
       "      <td>2.0</td>\n",
       "      <td>1.0</td>\n",
       "    </tr>\n",
       "    <tr>\n",
       "      <th>2</th>\n",
       "      <td>AE</td>\n",
       "      <td>United Arab Emirates</td>\n",
       "      <td>2020-02-17</td>\n",
       "      <td>-1.0</td>\n",
       "      <td>1.0</td>\n",
       "      <td>5.0</td>\n",
       "      <td>1.0</td>\n",
       "      <td>2.0</td>\n",
       "      <td>1.0</td>\n",
       "    </tr>\n",
       "    <tr>\n",
       "      <th>3</th>\n",
       "      <td>AE</td>\n",
       "      <td>United Arab Emirates</td>\n",
       "      <td>2020-02-18</td>\n",
       "      <td>-2.0</td>\n",
       "      <td>1.0</td>\n",
       "      <td>5.0</td>\n",
       "      <td>0.0</td>\n",
       "      <td>2.0</td>\n",
       "      <td>1.0</td>\n",
       "    </tr>\n",
       "    <tr>\n",
       "      <th>4</th>\n",
       "      <td>AE</td>\n",
       "      <td>United Arab Emirates</td>\n",
       "      <td>2020-02-19</td>\n",
       "      <td>-2.0</td>\n",
       "      <td>0.0</td>\n",
       "      <td>4.0</td>\n",
       "      <td>-1.0</td>\n",
       "      <td>2.0</td>\n",
       "      <td>1.0</td>\n",
       "    </tr>\n",
       "  </tbody>\n",
       "</table>\n",
       "</div>"
      ],
      "text/plain": [
       "  country_region_code        country_region       date  \\\n",
       "0                  AE  United Arab Emirates 2020-02-15   \n",
       "1                  AE  United Arab Emirates 2020-02-16   \n",
       "2                  AE  United Arab Emirates 2020-02-17   \n",
       "3                  AE  United Arab Emirates 2020-02-18   \n",
       "4                  AE  United Arab Emirates 2020-02-19   \n",
       "\n",
       "   retail_and_recreation_percent_change_from_baseline  \\\n",
       "0                                                0.0    \n",
       "1                                                1.0    \n",
       "2                                               -1.0    \n",
       "3                                               -2.0    \n",
       "4                                               -2.0    \n",
       "\n",
       "   grocery_and_pharmacy_percent_change_from_baseline  \\\n",
       "0                                                4.0   \n",
       "1                                                4.0   \n",
       "2                                                1.0   \n",
       "3                                                1.0   \n",
       "4                                                0.0   \n",
       "\n",
       "   parks_percent_change_from_baseline  \\\n",
       "0                                 5.0   \n",
       "1                                 4.0   \n",
       "2                                 5.0   \n",
       "3                                 5.0   \n",
       "4                                 4.0   \n",
       "\n",
       "   transit_stations_percent_change_from_baseline  \\\n",
       "0                                            0.0   \n",
       "1                                            1.0   \n",
       "2                                            1.0   \n",
       "3                                            0.0   \n",
       "4                                           -1.0   \n",
       "\n",
       "   workplaces_percent_change_from_baseline  \\\n",
       "0                                      2.0   \n",
       "1                                      2.0   \n",
       "2                                      2.0   \n",
       "3                                      2.0   \n",
       "4                                      2.0   \n",
       "\n",
       "   residential_percent_change_from_baseline  \n",
       "0                                       1.0  \n",
       "1                                       1.0  \n",
       "2                                       1.0  \n",
       "3                                       1.0  \n",
       "4                                       1.0  "
      ]
     },
     "execution_count": 8,
     "metadata": {},
     "output_type": "execute_result"
    }
   ],
   "source": [
    "# dd.read_csv('Global_Mobility_Report.csv').to_parquet('mobility.parquet',compression='snappy',engine='pyarrow', low_memory=False)\n",
    "(dd.read_csv('Global_Mobility_Report.csv',\n",
    "            assume_missing=True, \n",
    "            usecols= columns,\n",
    "            parse_dates=['date'])\n",
    "   .head())"
   ]
  },
  {
   "cell_type": "code",
   "execution_count": 9,
   "id": "36d65aec",
   "metadata": {
    "execution": {
     "iopub.execute_input": "2022-08-04T16:30:54.592035Z",
     "iopub.status.busy": "2022-08-04T16:30:54.591605Z",
     "iopub.status.idle": "2022-08-04T16:31:11.170288Z",
     "shell.execute_reply": "2022-08-04T16:31:11.168956Z",
     "shell.execute_reply.started": "2022-08-04T16:30:54.592007Z"
    }
   },
   "outputs": [
    {
     "data": {
      "text/plain": [
       "(None,)"
      ]
     },
     "execution_count": 9,
     "metadata": {},
     "output_type": "execute_result"
    }
   ],
   "source": [
    "(dd.read_csv('Global_Mobility_Report.csv',\n",
    "            assume_missing=True, \n",
    "            usecols= columns,\n",
    "            parse_dates=['date'])\n",
    ").to_parquet('mobility.parquet',compression='snappy',engine='pyarrow')"
   ]
  },
  {
   "cell_type": "code",
   "execution_count": 10,
   "id": "af0c3eef",
   "metadata": {
    "execution": {
     "iopub.execute_input": "2022-08-04T16:31:18.445202Z",
     "iopub.status.busy": "2022-08-04T16:31:18.444772Z",
     "iopub.status.idle": "2022-08-04T16:31:19.214043Z",
     "shell.execute_reply": "2022-08-04T16:31:19.212027Z",
     "shell.execute_reply.started": "2022-08-04T16:31:18.445170Z"
    }
   },
   "outputs": [
    {
     "name": "stdout",
     "output_type": "stream",
     "text": [
      "Global_Mobility_Report.csv  dask-worker-space  www.gstatic.com\n",
      "Test.ipynb\t\t    mobility.parquet\n"
     ]
    }
   ],
   "source": [
    "!ls"
   ]
  },
  {
   "cell_type": "code",
   "execution_count": null,
   "id": "c096bfa7",
   "metadata": {},
   "outputs": [],
   "source": []
  },
  {
   "cell_type": "code",
   "execution_count": 11,
   "id": "cebd6169",
   "metadata": {
    "execution": {
     "iopub.execute_input": "2022-08-04T16:31:26.259361Z",
     "iopub.status.busy": "2022-08-04T16:31:26.258966Z",
     "iopub.status.idle": "2022-08-04T16:31:26.299122Z",
     "shell.execute_reply": "2022-08-04T16:31:26.297902Z",
     "shell.execute_reply.started": "2022-08-04T16:31:26.259330Z"
    }
   },
   "outputs": [],
   "source": [
    "dddf = dd.read_parquet('mobility.parquet', engine='pyarrow')"
   ]
  },
  {
   "cell_type": "code",
   "execution_count": 12,
   "id": "d22f3c4f",
   "metadata": {
    "execution": {
     "iopub.execute_input": "2022-08-04T16:31:30.159917Z",
     "iopub.status.busy": "2022-08-04T16:31:30.159474Z",
     "iopub.status.idle": "2022-08-04T16:31:32.957166Z",
     "shell.execute_reply": "2022-08-04T16:31:32.954443Z",
     "shell.execute_reply.started": "2022-08-04T16:31:30.159882Z"
    }
   },
   "outputs": [
    {
     "name": "stderr",
     "output_type": "stream",
     "text": [
      "distributed.diskutils - INFO - Found stale lock file and directory '/notebooks/dask-worker-space/worker-nv2ks4cc', purging\n",
      "distributed.diskutils - INFO - Found stale lock file and directory '/notebooks/dask-worker-space/worker-4qq98ufy', purging\n",
      "distributed.diskutils - INFO - Found stale lock file and directory '/notebooks/dask-worker-space/worker-i57w5rzb', purging\n",
      "/usr/lib/python3.9/contextlib.py:126: UserWarning: Creating scratch directories is taking a surprisingly long time. This is often due to running workers on a network file system. Consider specifying a local-directory to point workers to write scratch data to a local disk.\n",
      "  next(self.gen)\n"
     ]
    }
   ],
   "source": [
    "from distributed import Client\n",
    "client = Client()"
   ]
  },
  {
   "cell_type": "code",
   "execution_count": 13,
   "id": "60a0c308",
   "metadata": {
    "execution": {
     "iopub.execute_input": "2022-08-04T16:31:47.303163Z",
     "iopub.status.busy": "2022-08-04T16:31:47.302745Z",
     "iopub.status.idle": "2022-08-04T16:31:51.021108Z",
     "shell.execute_reply": "2022-08-04T16:31:51.018397Z",
     "shell.execute_reply.started": "2022-08-04T16:31:47.303129Z"
    }
   },
   "outputs": [],
   "source": [
    "mddf = md.read_parquet('mobility.parquet', engine='pyarrow')"
   ]
  },
  {
   "cell_type": "code",
   "execution_count": 14,
   "id": "0cd00ccc",
   "metadata": {
    "execution": {
     "iopub.execute_input": "2022-08-04T16:31:51.026442Z",
     "iopub.status.busy": "2022-08-04T16:31:51.024610Z",
     "iopub.status.idle": "2022-08-04T16:31:54.087740Z",
     "shell.execute_reply": "2022-08-04T16:31:54.086476Z",
     "shell.execute_reply.started": "2022-08-04T16:31:51.026409Z"
    }
   },
   "outputs": [],
   "source": [
    "pdf = pd.read_parquet('mobility.parquet', engine='pyarrow')"
   ]
  },
  {
   "cell_type": "code",
   "execution_count": 15,
   "id": "16a5926f",
   "metadata": {
    "execution": {
     "iopub.execute_input": "2022-08-04T16:31:54.089711Z",
     "iopub.status.busy": "2022-08-04T16:31:54.089289Z",
     "iopub.status.idle": "2022-08-04T16:31:56.876087Z",
     "shell.execute_reply": "2022-08-04T16:31:56.873725Z",
     "shell.execute_reply.started": "2022-08-04T16:31:54.089647Z"
    }
   },
   "outputs": [],
   "source": [
    "pldf = pl.read_parquet('mobility.parquet', use_pyarrow=True)"
   ]
  },
  {
   "cell_type": "markdown",
   "id": "0e8932d6",
   "metadata": {
    "execution": {
     "iopub.execute_input": "2022-08-04T13:42:57.425207Z",
     "iopub.status.busy": "2022-08-04T13:42:57.424934Z",
     "iopub.status.idle": "2022-08-04T13:42:57.430793Z",
     "shell.execute_reply": "2022-08-04T13:42:57.429397Z",
     "shell.execute_reply.started": "2022-08-04T13:42:57.425182Z"
    }
   },
   "source": [
    "## Read Shape"
   ]
  },
  {
   "cell_type": "code",
   "execution_count": 16,
   "id": "90a62fea",
   "metadata": {
    "execution": {
     "iopub.execute_input": "2022-08-04T16:31:59.340742Z",
     "iopub.status.busy": "2022-08-04T16:31:59.339857Z",
     "iopub.status.idle": "2022-08-04T16:32:01.023456Z",
     "shell.execute_reply": "2022-08-04T16:32:01.022032Z",
     "shell.execute_reply.started": "2022-08-04T16:31:59.340674Z"
    }
   },
   "outputs": [
    {
     "name": "stdout",
     "output_type": "stream",
     "text": [
      "CPU times: user 251 ms, sys: 51.8 ms, total: 303 ms\n",
      "Wall time: 1.67 s\n"
     ]
    },
    {
     "data": {
      "text/plain": [
       "10806198"
      ]
     },
     "execution_count": 16,
     "metadata": {},
     "output_type": "execute_result"
    }
   ],
   "source": [
    "%time dddf.shape[0].compute()"
   ]
  },
  {
   "cell_type": "code",
   "execution_count": 17,
   "id": "32ef027e",
   "metadata": {
    "execution": {
     "iopub.execute_input": "2022-08-04T16:32:04.707613Z",
     "iopub.status.busy": "2022-08-04T16:32:04.706475Z",
     "iopub.status.idle": "2022-08-04T16:32:04.717649Z",
     "shell.execute_reply": "2022-08-04T16:32:04.716352Z",
     "shell.execute_reply.started": "2022-08-04T16:32:04.707541Z"
    }
   },
   "outputs": [
    {
     "name": "stdout",
     "output_type": "stream",
     "text": [
      "CPU times: user 32 µs, sys: 0 ns, total: 32 µs\n",
      "Wall time: 39.3 µs\n"
     ]
    },
    {
     "data": {
      "text/plain": [
       "(10806198, 9)"
      ]
     },
     "execution_count": 17,
     "metadata": {},
     "output_type": "execute_result"
    }
   ],
   "source": [
    "%time pdf.shape"
   ]
  },
  {
   "cell_type": "code",
   "execution_count": 18,
   "id": "6cbd85a9",
   "metadata": {
    "execution": {
     "iopub.execute_input": "2022-08-04T16:32:09.045872Z",
     "iopub.status.busy": "2022-08-04T16:32:09.044544Z",
     "iopub.status.idle": "2022-08-04T16:32:09.055231Z",
     "shell.execute_reply": "2022-08-04T16:32:09.053869Z",
     "shell.execute_reply.started": "2022-08-04T16:32:09.045823Z"
    }
   },
   "outputs": [
    {
     "name": "stdout",
     "output_type": "stream",
     "text": [
      "CPU times: user 0 ns, sys: 55 µs, total: 55 µs\n",
      "Wall time: 54.8 µs\n"
     ]
    },
    {
     "data": {
      "text/plain": [
       "(10806198, 9)"
      ]
     },
     "execution_count": 18,
     "metadata": {},
     "output_type": "execute_result"
    }
   ],
   "source": [
    "%time mddf.shape"
   ]
  },
  {
   "cell_type": "code",
   "execution_count": 19,
   "id": "295bda17",
   "metadata": {
    "execution": {
     "iopub.execute_input": "2022-08-04T16:32:13.311148Z",
     "iopub.status.busy": "2022-08-04T16:32:13.310670Z",
     "iopub.status.idle": "2022-08-04T16:32:13.320279Z",
     "shell.execute_reply": "2022-08-04T16:32:13.318667Z",
     "shell.execute_reply.started": "2022-08-04T16:32:13.311077Z"
    }
   },
   "outputs": [
    {
     "name": "stdout",
     "output_type": "stream",
     "text": [
      "CPU times: user 42 µs, sys: 0 ns, total: 42 µs\n",
      "Wall time: 48.4 µs\n"
     ]
    },
    {
     "data": {
      "text/plain": [
       "(10806198, 10)"
      ]
     },
     "execution_count": 19,
     "metadata": {},
     "output_type": "execute_result"
    }
   ],
   "source": [
    "%time pldf.shape"
   ]
  },
  {
   "cell_type": "markdown",
   "id": "8450b8f1",
   "metadata": {},
   "source": [
    "Polars is fastest, then pandas < modin < dask"
   ]
  },
  {
   "cell_type": "markdown",
   "id": "2599816b",
   "metadata": {},
   "source": [
    "## Country Region Count"
   ]
  },
  {
   "cell_type": "code",
   "execution_count": 38,
   "id": "4ee1135a",
   "metadata": {
    "execution": {
     "iopub.execute_input": "2022-08-04T13:44:35.313521Z",
     "iopub.status.busy": "2022-08-04T13:44:35.313178Z",
     "iopub.status.idle": "2022-08-04T13:44:36.059030Z",
     "shell.execute_reply": "2022-08-04T13:44:36.058285Z",
     "shell.execute_reply.started": "2022-08-04T13:44:35.313496Z"
    }
   },
   "outputs": [
    {
     "name": "stdout",
     "output_type": "stream",
     "text": [
      "CPU times: user 99.6 ms, sys: 14.1 ms, total: 114 ms\n",
      "Wall time: 720 ms\n"
     ]
    },
    {
     "data": {
      "text/plain": [
       "United States     2312412\n",
       "Brazil            1808620\n",
       "India              598225\n",
       "Turkey             493512\n",
       "Argentina          378917\n",
       "United Kingdom     374096\n",
       "Poland             346884\n",
       "Netherlands        319961\n",
       "Colombia           286514\n",
       "Australia          250888\n",
       "Name: country_region, dtype: int64"
      ]
     },
     "execution_count": 38,
     "metadata": {},
     "output_type": "execute_result"
    }
   ],
   "source": [
    "%time dddf['country_region'].value_counts().nlargest(10).compute()"
   ]
  },
  {
   "cell_type": "code",
   "execution_count": 39,
   "id": "9d6c8070",
   "metadata": {
    "execution": {
     "iopub.execute_input": "2022-08-04T13:44:40.071334Z",
     "iopub.status.busy": "2022-08-04T13:44:40.070405Z",
     "iopub.status.idle": "2022-08-04T13:44:40.514653Z",
     "shell.execute_reply": "2022-08-04T13:44:40.511903Z",
     "shell.execute_reply.started": "2022-08-04T13:44:40.071307Z"
    }
   },
   "outputs": [
    {
     "name": "stdout",
     "output_type": "stream",
     "text": [
      "CPU times: user 434 ms, sys: 0 ns, total: 434 ms\n",
      "Wall time: 424 ms\n"
     ]
    },
    {
     "data": {
      "text/plain": [
       "United States     2312412\n",
       "Brazil            1808620\n",
       "India              598225\n",
       "Turkey             493512\n",
       "Argentina          378917\n",
       "United Kingdom     374096\n",
       "Poland             346884\n",
       "Netherlands        319961\n",
       "Colombia           286514\n",
       "Australia          250888\n",
       "Name: country_region, dtype: int64"
      ]
     },
     "execution_count": 39,
     "metadata": {},
     "output_type": "execute_result"
    }
   ],
   "source": [
    "%time pdf['country_region'].value_counts().nlargest(10)"
   ]
  },
  {
   "cell_type": "code",
   "execution_count": 40,
   "id": "2110b760",
   "metadata": {
    "execution": {
     "iopub.execute_input": "2022-08-04T13:44:50.153235Z",
     "iopub.status.busy": "2022-08-04T13:44:50.152786Z",
     "iopub.status.idle": "2022-08-04T13:44:51.121631Z",
     "shell.execute_reply": "2022-08-04T13:44:51.120587Z",
     "shell.execute_reply.started": "2022-08-04T13:44:50.153209Z"
    }
   },
   "outputs": [
    {
     "name": "stderr",
     "output_type": "stream",
     "text": [
      "UserWarning: sort_values defaulting to pandas implementation.\n"
     ]
    },
    {
     "name": "stdout",
     "output_type": "stream",
     "text": [
      "CPU times: user 424 ms, sys: 49.4 ms, total: 474 ms\n",
      "Wall time: 932 ms\n"
     ]
    },
    {
     "name": "stderr",
     "output_type": "stream",
     "text": [
      "UserWarning: `Series.nlargest` defaulting to pandas implementation.\n",
      "UserWarning: Distributing <class 'pandas.core.series.Series'> object. This may take some time.\n"
     ]
    },
    {
     "data": {
      "text/plain": [
       "United States     2312412\n",
       "Brazil            1808620\n",
       "India              598225\n",
       "Turkey             493512\n",
       "Argentina          378917\n",
       "United Kingdom     374096\n",
       "Poland             346884\n",
       "Netherlands        319961\n",
       "Colombia           286514\n",
       "Australia          250888\n",
       "Name: country_region, dtype: int64"
      ]
     },
     "execution_count": 40,
     "metadata": {},
     "output_type": "execute_result"
    }
   ],
   "source": [
    "%time mddf['country_region'].value_counts().nlargest(10)"
   ]
  },
  {
   "cell_type": "code",
   "execution_count": 26,
   "id": "0c1bbebe",
   "metadata": {
    "execution": {
     "iopub.execute_input": "2022-08-04T13:43:01.372586Z",
     "iopub.status.busy": "2022-08-04T13:43:01.372237Z",
     "iopub.status.idle": "2022-08-04T13:43:01.607135Z",
     "shell.execute_reply": "2022-08-04T13:43:01.606491Z",
     "shell.execute_reply.started": "2022-08-04T13:43:01.372586Z"
    }
   },
   "outputs": [
    {
     "name": "stdout",
     "output_type": "stream",
     "text": [
      "CPU times: user 634 ms, sys: 198 ms, total: 833 ms\n",
      "Wall time: 227 ms\n"
     ]
    },
    {
     "data": {
      "text/html": [
       "<div>\n",
       "<style scoped>\n",
       "    .dataframe tbody tr th:only-of-type {\n",
       "        vertical-align: middle;\n",
       "    }\n",
       "\n",
       "    .dataframe tbody tr th {\n",
       "        vertical-align: top;\n",
       "    }\n",
       "\n",
       "    .dataframe thead th {\n",
       "        text-align: right;\n",
       "    }\n",
       "\n",
       "    .dataframe td {\n",
       "        white-space: pre;\n",
       "    }\n",
       "\n",
       "    .dataframe td {\n",
       "        padding-top: 0;\n",
       "    }\n",
       "\n",
       "    .dataframe td {\n",
       "        padding-bottom: 0;\n",
       "    }\n",
       "\n",
       "    .dataframe td {\n",
       "        line-height: 95%;\n",
       "    }\n",
       "</style>\n",
       "<table border=\"1\" class=\"dataframe\" >\n",
       "<small>shape: (10, 2)</small>\n",
       "<thead>\n",
       "<tr>\n",
       "<th>\n",
       "country_region\n",
       "</th>\n",
       "<th>\n",
       "count\n",
       "</th>\n",
       "</tr>\n",
       "<tr>\n",
       "<td>\n",
       "str\n",
       "</td>\n",
       "<td>\n",
       "u32\n",
       "</td>\n",
       "</tr>\n",
       "</thead>\n",
       "<tbody>\n",
       "<tr>\n",
       "<td>\n",
       "\"United States\"\n",
       "</td>\n",
       "<td>\n",
       "2312412\n",
       "</td>\n",
       "</tr>\n",
       "<tr>\n",
       "<td>\n",
       "\"Brazil\"\n",
       "</td>\n",
       "<td>\n",
       "1808620\n",
       "</td>\n",
       "</tr>\n",
       "<tr>\n",
       "<td>\n",
       "\"India\"\n",
       "</td>\n",
       "<td>\n",
       "598225\n",
       "</td>\n",
       "</tr>\n",
       "<tr>\n",
       "<td>\n",
       "\"Turkey\"\n",
       "</td>\n",
       "<td>\n",
       "493512\n",
       "</td>\n",
       "</tr>\n",
       "<tr>\n",
       "<td>\n",
       "\"Argentina\"\n",
       "</td>\n",
       "<td>\n",
       "378917\n",
       "</td>\n",
       "</tr>\n",
       "<tr>\n",
       "<td>\n",
       "\"United Kingdom...\n",
       "</td>\n",
       "<td>\n",
       "374096\n",
       "</td>\n",
       "</tr>\n",
       "<tr>\n",
       "<td>\n",
       "\"Poland\"\n",
       "</td>\n",
       "<td>\n",
       "346884\n",
       "</td>\n",
       "</tr>\n",
       "<tr>\n",
       "<td>\n",
       "\"Netherlands\"\n",
       "</td>\n",
       "<td>\n",
       "319961\n",
       "</td>\n",
       "</tr>\n",
       "<tr>\n",
       "<td>\n",
       "\"Colombia\"\n",
       "</td>\n",
       "<td>\n",
       "286514\n",
       "</td>\n",
       "</tr>\n",
       "<tr>\n",
       "<td>\n",
       "\"Australia\"\n",
       "</td>\n",
       "<td>\n",
       "250888\n",
       "</td>\n",
       "</tr>\n",
       "</tbody>\n",
       "</table>\n",
       "</div>"
      ],
      "text/plain": [
       "shape: (10, 2)\n",
       "┌────────────────┬─────────┐\n",
       "│ country_region ┆ count   │\n",
       "│ ---            ┆ ---     │\n",
       "│ str            ┆ u32     │\n",
       "╞════════════════╪═════════╡\n",
       "│ United States  ┆ 2312412 │\n",
       "├╌╌╌╌╌╌╌╌╌╌╌╌╌╌╌╌┼╌╌╌╌╌╌╌╌╌┤\n",
       "│ Brazil         ┆ 1808620 │\n",
       "├╌╌╌╌╌╌╌╌╌╌╌╌╌╌╌╌┼╌╌╌╌╌╌╌╌╌┤\n",
       "│ India          ┆ 598225  │\n",
       "├╌╌╌╌╌╌╌╌╌╌╌╌╌╌╌╌┼╌╌╌╌╌╌╌╌╌┤\n",
       "│ Turkey         ┆ 493512  │\n",
       "├╌╌╌╌╌╌╌╌╌╌╌╌╌╌╌╌┼╌╌╌╌╌╌╌╌╌┤\n",
       "│ ...            ┆ ...     │\n",
       "├╌╌╌╌╌╌╌╌╌╌╌╌╌╌╌╌┼╌╌╌╌╌╌╌╌╌┤\n",
       "│ Poland         ┆ 346884  │\n",
       "├╌╌╌╌╌╌╌╌╌╌╌╌╌╌╌╌┼╌╌╌╌╌╌╌╌╌┤\n",
       "│ Netherlands    ┆ 319961  │\n",
       "├╌╌╌╌╌╌╌╌╌╌╌╌╌╌╌╌┼╌╌╌╌╌╌╌╌╌┤\n",
       "│ Colombia       ┆ 286514  │\n",
       "├╌╌╌╌╌╌╌╌╌╌╌╌╌╌╌╌┼╌╌╌╌╌╌╌╌╌┤\n",
       "│ Australia      ┆ 250888  │\n",
       "└────────────────┴─────────┘"
      ]
     },
     "execution_count": 26,
     "metadata": {},
     "output_type": "execute_result"
    }
   ],
   "source": [
    "%time pldf.groupby('country_region').count().sort(by = 'count', reverse=True).head(10)"
   ]
  },
  {
   "cell_type": "code",
   "execution_count": 20,
   "id": "36a882fa",
   "metadata": {
    "execution": {
     "iopub.execute_input": "2022-08-04T16:32:37.137145Z",
     "iopub.status.busy": "2022-08-04T16:32:37.136225Z",
     "iopub.status.idle": "2022-08-04T16:32:40.727303Z",
     "shell.execute_reply": "2022-08-04T16:32:40.725897Z",
     "shell.execute_reply.started": "2022-08-04T16:32:37.137104Z"
    }
   },
   "outputs": [
    {
     "name": "stderr",
     "output_type": "stream",
     "text": [
      "UserWarning: sort_values defaulting to pandas implementation.\n",
      "Please refer to https://modin.readthedocs.io/en/stable/supported_apis/defaulting_to_pandas.html for explanation.\n"
     ]
    },
    {
     "name": "stdout",
     "output_type": "stream",
     "text": [
      "CPU times: user 712 ms, sys: 116 ms, total: 828 ms\n",
      "Wall time: 3.54 s\n"
     ]
    },
    {
     "data": {
      "text/plain": [
       "country_region\n",
       "United States     2312412\n",
       "Brazil            1808620\n",
       "India              598225\n",
       "Turkey             493512\n",
       "Argentina          378917\n",
       "United Kingdom     374096\n",
       "Poland             346884\n",
       "Netherlands        319961\n",
       "Colombia           286514\n",
       "Australia          250888\n",
       "Name: country_region, dtype: int64"
      ]
     },
     "execution_count": 20,
     "metadata": {},
     "output_type": "execute_result"
    }
   ],
   "source": [
    "%time mddf.groupby('country_region')['country_region'].count().sort_values(ascending=False).head(10)"
   ]
  },
  {
   "cell_type": "code",
   "execution_count": null,
   "id": "377681f9",
   "metadata": {},
   "outputs": [],
   "source": []
  },
  {
   "cell_type": "code",
   "execution_count": 21,
   "id": "90345660",
   "metadata": {
    "execution": {
     "iopub.execute_input": "2022-08-04T16:32:44.499671Z",
     "iopub.status.busy": "2022-08-04T16:32:44.499242Z",
     "iopub.status.idle": "2022-08-04T16:32:48.424178Z",
     "shell.execute_reply": "2022-08-04T16:32:48.422455Z",
     "shell.execute_reply.started": "2022-08-04T16:32:44.499640Z"
    }
   },
   "outputs": [
    {
     "name": "stdout",
     "output_type": "stream",
     "text": [
      "CPU times: user 568 ms, sys: 63.2 ms, total: 631 ms\n",
      "Wall time: 3.91 s\n"
     ]
    },
    {
     "data": {
      "text/plain": [
       "country_region  date     \n",
       "Afghanistan     April        59.950000\n",
       "                August       56.489362\n",
       "                December     64.064516\n",
       "                February     54.802817\n",
       "                January      60.564516\n",
       "                               ...    \n",
       "Zimbabwe        March        43.189616\n",
       "                May          47.511468\n",
       "                November     47.378092\n",
       "                October      46.393220\n",
       "                September    40.555133\n",
       "Name: grocery_and_pharmacy_percent_change_from_baseline, Length: 1620, dtype: float64"
      ]
     },
     "execution_count": 21,
     "metadata": {},
     "output_type": "execute_result"
    }
   ],
   "source": [
    "%time dddf.groupby(['country_region',dddf.date.dt.month_name() ])['grocery_and_pharmacy_percent_change_from_baseline'].mean().compute()"
   ]
  },
  {
   "cell_type": "code",
   "execution_count": 22,
   "id": "ebf67e90",
   "metadata": {
    "execution": {
     "iopub.execute_input": "2022-08-04T16:32:54.375285Z",
     "iopub.status.busy": "2022-08-04T16:32:54.374903Z",
     "iopub.status.idle": "2022-08-04T16:33:00.788017Z",
     "shell.execute_reply": "2022-08-04T16:33:00.786767Z",
     "shell.execute_reply.started": "2022-08-04T16:32:54.375259Z"
    }
   },
   "outputs": [
    {
     "name": "stdout",
     "output_type": "stream",
     "text": [
      "CPU times: user 5.43 s, sys: 1.29 s, total: 6.72 s\n",
      "Wall time: 6.4 s\n"
     ]
    },
    {
     "data": {
      "text/plain": [
       "country_region  date     \n",
       "Afghanistan     April        59.950000\n",
       "                August       56.489362\n",
       "                December     64.064516\n",
       "                February     54.802817\n",
       "                January      60.564516\n",
       "                               ...    \n",
       "Zimbabwe        March        43.189616\n",
       "                May          47.511468\n",
       "                November     47.378092\n",
       "                October      46.393220\n",
       "                September    40.555133\n",
       "Name: grocery_and_pharmacy_percent_change_from_baseline, Length: 1620, dtype: float64"
      ]
     },
     "execution_count": 22,
     "metadata": {},
     "output_type": "execute_result"
    }
   ],
   "source": [
    "%time pdf.groupby(['country_region',pdf.date.dt.month_name() ])['grocery_and_pharmacy_percent_change_from_baseline'].mean()"
   ]
  },
  {
   "cell_type": "code",
   "execution_count": 23,
   "id": "7a3b32a9",
   "metadata": {
    "execution": {
     "iopub.execute_input": "2022-08-04T16:33:04.820592Z",
     "iopub.status.busy": "2022-08-04T16:33:04.820177Z",
     "iopub.status.idle": "2022-08-04T16:33:06.054304Z",
     "shell.execute_reply": "2022-08-04T16:33:06.049871Z",
     "shell.execute_reply.started": "2022-08-04T16:33:04.820585Z"
    }
   },
   "outputs": [
    {
     "ename": "NotImplementedError",
     "evalue": "Column lookups on GroupBy with arbitrary Series in by is not yet supported.",
     "output_type": "error",
     "traceback": [
      "\u001b[0;31m---------------------------------------------------------------------------\u001b[0m",
      "\u001b[0;31mNotImplementedError\u001b[0m                       Traceback (most recent call last)",
      "Input \u001b[0;32mIn [23]\u001b[0m, in \u001b[0;36m<cell line: 1>\u001b[0;34m()\u001b[0m\n\u001b[0;32m----> 1\u001b[0m \u001b[43mmddf\u001b[49m\u001b[38;5;241;43m.\u001b[39;49m\u001b[43mgroupby\u001b[49m\u001b[43m(\u001b[49m\u001b[43m[\u001b[49m\u001b[38;5;124;43m'\u001b[39;49m\u001b[38;5;124;43mcountry_region\u001b[39;49m\u001b[38;5;124;43m'\u001b[39;49m\u001b[43m,\u001b[49m\u001b[43mmddf\u001b[49m\u001b[38;5;241;43m.\u001b[39;49m\u001b[43mdate\u001b[49m\u001b[38;5;241;43m.\u001b[39;49m\u001b[43mdt\u001b[49m\u001b[38;5;241;43m.\u001b[39;49m\u001b[43mmonth_name\u001b[49m\u001b[43m(\u001b[49m\u001b[43m)\u001b[49m\u001b[43m \u001b[49m\u001b[43m]\u001b[49m\u001b[43m)\u001b[49m\u001b[43m[\u001b[49m\u001b[38;5;124;43m'\u001b[39;49m\u001b[38;5;124;43mgrocery_and_pharmacy_percent_change_from_baseline\u001b[39;49m\u001b[38;5;124;43m'\u001b[39;49m\u001b[43m]\u001b[49m\u001b[38;5;241m.\u001b[39mmean()\n",
      "File \u001b[0;32m/usr/local/lib/python3.9/dist-packages/modin/logging/logger_metaclass.py:68\u001b[0m, in \u001b[0;36mlogger_class_wrapper.<locals>.log_wrap\u001b[0;34m(*args, **kwargs)\u001b[0m\n\u001b[1;32m     66\u001b[0m     logger\u001b[38;5;241m.\u001b[39minfo(\u001b[38;5;124mf\u001b[39m\u001b[38;5;124m\"\u001b[39m\u001b[38;5;124mEND::PANDAS-API::\u001b[39m\u001b[38;5;132;01m{\u001b[39;00mclass_name\u001b[38;5;132;01m}\u001b[39;00m\u001b[38;5;124m.\u001b[39m\u001b[38;5;132;01m{\u001b[39;00mmethod_name\u001b[38;5;132;01m}\u001b[39;00m\u001b[38;5;124m\"\u001b[39m)\n\u001b[1;32m     67\u001b[0m     \u001b[38;5;28;01mreturn\u001b[39;00m result\n\u001b[0;32m---> 68\u001b[0m \u001b[38;5;28;01mreturn\u001b[39;00m \u001b[43mmethod\u001b[49m\u001b[43m(\u001b[49m\u001b[38;5;241;43m*\u001b[39;49m\u001b[43margs\u001b[49m\u001b[43m,\u001b[49m\u001b[43m \u001b[49m\u001b[38;5;241;43m*\u001b[39;49m\u001b[38;5;241;43m*\u001b[39;49m\u001b[43mkwargs\u001b[49m\u001b[43m)\u001b[49m\n",
      "File \u001b[0;32m/usr/local/lib/python3.9/dist-packages/modin/pandas/groupby.py:452\u001b[0m, in \u001b[0;36mDataFrameGroupBy.__getitem__\u001b[0;34m(self, key)\u001b[0m\n\u001b[1;32m    442\u001b[0m     \u001b[38;5;28;01mreturn\u001b[39;00m DataFrameGroupBy(\n\u001b[1;32m    443\u001b[0m         \u001b[38;5;28mself\u001b[39m\u001b[38;5;241m.\u001b[39m_df[key],\n\u001b[1;32m    444\u001b[0m         drop\u001b[38;5;241m=\u001b[39m\u001b[38;5;28mself\u001b[39m\u001b[38;5;241m.\u001b[39m_drop,\n\u001b[1;32m    445\u001b[0m         \u001b[38;5;241m*\u001b[39m\u001b[38;5;241m*\u001b[39mkwargs,\n\u001b[1;32m    446\u001b[0m     )\n\u001b[1;32m    447\u001b[0m \u001b[38;5;28;01mif\u001b[39;00m (\n\u001b[1;32m    448\u001b[0m     \u001b[38;5;28mself\u001b[39m\u001b[38;5;241m.\u001b[39m_is_multi_by\n\u001b[1;32m    449\u001b[0m     \u001b[38;5;129;01mand\u001b[39;00m \u001b[38;5;28misinstance\u001b[39m(\u001b[38;5;28mself\u001b[39m\u001b[38;5;241m.\u001b[39m_by, \u001b[38;5;28mlist\u001b[39m)\n\u001b[1;32m    450\u001b[0m     \u001b[38;5;129;01mand\u001b[39;00m \u001b[38;5;129;01mnot\u001b[39;00m \u001b[38;5;28mall\u001b[39m(hashable(o) \u001b[38;5;129;01mand\u001b[39;00m o \u001b[38;5;129;01min\u001b[39;00m \u001b[38;5;28mself\u001b[39m\u001b[38;5;241m.\u001b[39m_df \u001b[38;5;28;01mfor\u001b[39;00m o \u001b[38;5;129;01min\u001b[39;00m \u001b[38;5;28mself\u001b[39m\u001b[38;5;241m.\u001b[39m_by)\n\u001b[1;32m    451\u001b[0m ):\n\u001b[0;32m--> 452\u001b[0m     \u001b[38;5;28;01mraise\u001b[39;00m \u001b[38;5;167;01mNotImplementedError\u001b[39;00m(\n\u001b[1;32m    453\u001b[0m         \u001b[38;5;124m\"\u001b[39m\u001b[38;5;124mColumn lookups on GroupBy with arbitrary Series in by\u001b[39m\u001b[38;5;124m\"\u001b[39m\n\u001b[1;32m    454\u001b[0m         \u001b[38;5;241m+\u001b[39m \u001b[38;5;124m\"\u001b[39m\u001b[38;5;124m is not yet supported.\u001b[39m\u001b[38;5;124m\"\u001b[39m\n\u001b[1;32m    455\u001b[0m     )\n\u001b[1;32m    456\u001b[0m \u001b[38;5;28;01mreturn\u001b[39;00m SeriesGroupBy(\n\u001b[1;32m    457\u001b[0m     \u001b[38;5;28mself\u001b[39m\u001b[38;5;241m.\u001b[39m_df[key],\n\u001b[1;32m    458\u001b[0m     drop\u001b[38;5;241m=\u001b[39m\u001b[38;5;28;01mFalse\u001b[39;00m,\n\u001b[1;32m    459\u001b[0m     \u001b[38;5;241m*\u001b[39m\u001b[38;5;241m*\u001b[39mkwargs,\n\u001b[1;32m    460\u001b[0m )\n",
      "\u001b[0;31mNotImplementedError\u001b[0m: Column lookups on GroupBy with arbitrary Series in by is not yet supported."
     ]
    }
   ],
   "source": [
    "mddf.groupby(['country_region',mddf.date.dt.month_name() ])['grocery_and_pharmacy_percent_change_from_baseline'].mean()"
   ]
  },
  {
   "cell_type": "code",
   "execution_count": 24,
   "id": "6502396c",
   "metadata": {
    "execution": {
     "iopub.execute_input": "2022-08-04T16:33:10.497579Z",
     "iopub.status.busy": "2022-08-04T16:33:10.496761Z",
     "iopub.status.idle": "2022-08-04T16:33:23.907449Z",
     "shell.execute_reply": "2022-08-04T16:33:23.904727Z",
     "shell.execute_reply.started": "2022-08-04T16:33:10.497546Z"
    }
   },
   "outputs": [
    {
     "name": "stdout",
     "output_type": "stream",
     "text": [
      "CPU times: user 1.58 s, sys: 300 ms, total: 1.88 s\n",
      "Wall time: 13 s\n"
     ]
    },
    {
     "data": {
      "text/plain": [
       "country_region  month    \n",
       "Afghanistan     April        59.950000\n",
       "                August       56.489362\n",
       "                December     64.064516\n",
       "                February     54.802817\n",
       "                January      60.564516\n",
       "                               ...    \n",
       "Zimbabwe        March        43.189616\n",
       "                May          47.511468\n",
       "                November     47.378092\n",
       "                October      46.393220\n",
       "                September    40.555133\n",
       "Name: grocery_and_pharmacy_percent_change_from_baseline, Length: 1620, dtype: float64"
      ]
     },
     "execution_count": 24,
     "metadata": {},
     "output_type": "execute_result"
    }
   ],
   "source": [
    "%%time\n",
    "(mddf[['country_region','date', 'grocery_and_pharmacy_percent_change_from_baseline']]\n",
    " .assign(month = mddf.date.dt.month_name())\n",
    " .drop('date',axis=1)\n",
    ").groupby(['country_region','month'])['grocery_and_pharmacy_percent_change_from_baseline'].mean()"
   ]
  },
  {
   "cell_type": "code",
   "execution_count": 27,
   "id": "2f62a4de",
   "metadata": {
    "execution": {
     "iopub.execute_input": "2022-08-04T16:36:02.524306Z",
     "iopub.status.busy": "2022-08-04T16:36:02.523945Z",
     "iopub.status.idle": "2022-08-04T16:36:02.534619Z",
     "shell.execute_reply": "2022-08-04T16:36:02.533029Z",
     "shell.execute_reply.started": "2022-08-04T16:36:02.524279Z"
    }
   },
   "outputs": [
    {
     "data": {
      "text/plain": [
       "{'1': 'January',\n",
       " '2': 'February',\n",
       " '3': 'March',\n",
       " '4': 'April',\n",
       " '5': 'May',\n",
       " '6': 'June',\n",
       " '7': 'July',\n",
       " '8': 'August',\n",
       " '9': 'September',\n",
       " '10': 'October',\n",
       " '11': 'November',\n",
       " '12': 'December'}"
      ]
     },
     "execution_count": 27,
     "metadata": {},
     "output_type": "execute_result"
    }
   ],
   "source": [
    "month_names = {\"1\":\"January\", \"2\":\"February\", \"3\":\"March\",\"4\":\"April\",\"5\":\"May\",\"6\":\"June\",\"7\":\"July\",\"8\":\"August\",\"9\":\"September\",\"10\":\"October\",\"11\":\"November\",\"12\":\"December\"}\n",
    "month_names"
   ]
  },
  {
   "cell_type": "code",
   "execution_count": 44,
   "id": "0cba1c64",
   "metadata": {
    "execution": {
     "iopub.execute_input": "2022-08-04T16:44:04.985571Z",
     "iopub.status.busy": "2022-08-04T16:44:04.984731Z",
     "iopub.status.idle": "2022-08-04T16:44:12.123378Z",
     "shell.execute_reply": "2022-08-04T16:44:12.122268Z",
     "shell.execute_reply.started": "2022-08-04T16:44:04.985529Z"
    }
   },
   "outputs": [
    {
     "name": "stdout",
     "output_type": "stream",
     "text": [
      "CPU times: user 7.22 s, sys: 1.59 s, total: 8.81 s\n",
      "Wall time: 7.1 s\n"
     ]
    },
    {
     "data": {
      "text/html": [
       "<div>\n",
       "<style scoped>\n",
       "    .dataframe tbody tr th:only-of-type {\n",
       "        vertical-align: middle;\n",
       "    }\n",
       "\n",
       "    .dataframe tbody tr th {\n",
       "        vertical-align: top;\n",
       "    }\n",
       "\n",
       "    .dataframe thead th {\n",
       "        text-align: right;\n",
       "    }\n",
       "\n",
       "    .dataframe td {\n",
       "        white-space: pre;\n",
       "    }\n",
       "\n",
       "    .dataframe td {\n",
       "        padding-top: 0;\n",
       "    }\n",
       "\n",
       "    .dataframe td {\n",
       "        padding-bottom: 0;\n",
       "    }\n",
       "\n",
       "    .dataframe td {\n",
       "        line-height: 95%;\n",
       "    }\n",
       "</style>\n",
       "<table border=\"1\" class=\"dataframe\" >\n",
       "<small>shape: (1620, 3)</small>\n",
       "<thead>\n",
       "<tr>\n",
       "<th>\n",
       "country_region\n",
       "</th>\n",
       "<th>\n",
       "date\n",
       "</th>\n",
       "<th>\n",
       "mean\n",
       "</th>\n",
       "</tr>\n",
       "<tr>\n",
       "<td>\n",
       "str\n",
       "</td>\n",
       "<td>\n",
       "str\n",
       "</td>\n",
       "<td>\n",
       "f64\n",
       "</td>\n",
       "</tr>\n",
       "</thead>\n",
       "<tbody>\n",
       "<tr>\n",
       "<td>\n",
       "\"Afghanistan\"\n",
       "</td>\n",
       "<td>\n",
       "\"April\"\n",
       "</td>\n",
       "<td>\n",
       "59.95\n",
       "</td>\n",
       "</tr>\n",
       "<tr>\n",
       "<td>\n",
       "\"Afghanistan\"\n",
       "</td>\n",
       "<td>\n",
       "\"August\"\n",
       "</td>\n",
       "<td>\n",
       "56.489362\n",
       "</td>\n",
       "</tr>\n",
       "<tr>\n",
       "<td>\n",
       "\"Afghanistan\"\n",
       "</td>\n",
       "<td>\n",
       "\"December\"\n",
       "</td>\n",
       "<td>\n",
       "64.064516\n",
       "</td>\n",
       "</tr>\n",
       "<tr>\n",
       "<td>\n",
       "\"Afghanistan\"\n",
       "</td>\n",
       "<td>\n",
       "\"February\"\n",
       "</td>\n",
       "<td>\n",
       "54.802817\n",
       "</td>\n",
       "</tr>\n",
       "<tr>\n",
       "<td>\n",
       "\"Afghanistan\"\n",
       "</td>\n",
       "<td>\n",
       "\"January\"\n",
       "</td>\n",
       "<td>\n",
       "60.564516\n",
       "</td>\n",
       "</tr>\n",
       "<tr>\n",
       "<td>\n",
       "\"Afghanistan\"\n",
       "</td>\n",
       "<td>\n",
       "\"July\"\n",
       "</td>\n",
       "<td>\n",
       "85.522222\n",
       "</td>\n",
       "</tr>\n",
       "<tr>\n",
       "<td>\n",
       "\"Afghanistan\"\n",
       "</td>\n",
       "<td>\n",
       "\"June\"\n",
       "</td>\n",
       "<td>\n",
       "118.475\n",
       "</td>\n",
       "</tr>\n",
       "<tr>\n",
       "<td>\n",
       "\"Afghanistan\"\n",
       "</td>\n",
       "<td>\n",
       "\"March\"\n",
       "</td>\n",
       "<td>\n",
       "70.295699\n",
       "</td>\n",
       "</tr>\n",
       "<tr>\n",
       "<td>\n",
       "\"Afghanistan\"\n",
       "</td>\n",
       "<td>\n",
       "\"May\"\n",
       "</td>\n",
       "<td>\n",
       "87.64375\n",
       "</td>\n",
       "</tr>\n",
       "<tr>\n",
       "<td>\n",
       "\"Afghanistan\"\n",
       "</td>\n",
       "<td>\n",
       "\"November\"\n",
       "</td>\n",
       "<td>\n",
       "65.591667\n",
       "</td>\n",
       "</tr>\n",
       "<tr>\n",
       "<td>\n",
       "\"Afghanistan\"\n",
       "</td>\n",
       "<td>\n",
       "\"October\"\n",
       "</td>\n",
       "<td>\n",
       "62.5887\n",
       "</td>\n",
       "</tr>\n",
       "<tr>\n",
       "<td>\n",
       "\"Afghanistan\"\n",
       "</td>\n",
       "<td>\n",
       "\"September\"\n",
       "</td>\n",
       "<td>\n",
       "60.01\n",
       "</td>\n",
       "</tr>\n",
       "<tr>\n",
       "<td>\n",
       "...\n",
       "</td>\n",
       "<td>\n",
       "...\n",
       "</td>\n",
       "<td>\n",
       "...\n",
       "</td>\n",
       "</tr>\n",
       "<tr>\n",
       "<td>\n",
       "\"Zimbabwe\"\n",
       "</td>\n",
       "<td>\n",
       "\"April\"\n",
       "</td>\n",
       "<td>\n",
       "29.117371\n",
       "</td>\n",
       "</tr>\n",
       "<tr>\n",
       "<td>\n",
       "\"Zimbabwe\"\n",
       "</td>\n",
       "<td>\n",
       "\"August\"\n",
       "</td>\n",
       "<td>\n",
       "25.034221\n",
       "</td>\n",
       "</tr>\n",
       "<tr>\n",
       "<td>\n",
       "\"Zimbabwe\"\n",
       "</td>\n",
       "<td>\n",
       "\"December\"\n",
       "</td>\n",
       "<td>\n",
       "56.020339\n",
       "</td>\n",
       "</tr>\n",
       "<tr>\n",
       "<td>\n",
       "\"Zimbabwe\"\n",
       "</td>\n",
       "<td>\n",
       "\"February\"\n",
       "</td>\n",
       "<td>\n",
       "35.313783\n",
       "</td>\n",
       "</tr>\n",
       "<tr>\n",
       "<td>\n",
       "\"Zimbabwe\"\n",
       "</td>\n",
       "<td>\n",
       "\"January\"\n",
       "</td>\n",
       "<td>\n",
       "28.176871\n",
       "</td>\n",
       "</tr>\n",
       "<tr>\n",
       "<td>\n",
       "\"Zimbabwe\"\n",
       "</td>\n",
       "<td>\n",
       "\"July\"\n",
       "</td>\n",
       "<td>\n",
       "50.683603\n",
       "</td>\n",
       "</tr>\n",
       "<tr>\n",
       "<td>\n",
       "\"Zimbabwe\"\n",
       "</td>\n",
       "<td>\n",
       "\"June\"\n",
       "</td>\n",
       "<td>\n",
       "53.247059\n",
       "</td>\n",
       "</tr>\n",
       "<tr>\n",
       "<td>\n",
       "\"Zimbabwe\"\n",
       "</td>\n",
       "<td>\n",
       "\"March\"\n",
       "</td>\n",
       "<td>\n",
       "43.189616\n",
       "</td>\n",
       "</tr>\n",
       "<tr>\n",
       "<td>\n",
       "\"Zimbabwe\"\n",
       "</td>\n",
       "<td>\n",
       "\"May\"\n",
       "</td>\n",
       "<td>\n",
       "47.511468\n",
       "</td>\n",
       "</tr>\n",
       "<tr>\n",
       "<td>\n",
       "\"Zimbabwe\"\n",
       "</td>\n",
       "<td>\n",
       "\"November\"\n",
       "</td>\n",
       "<td>\n",
       "47.378092\n",
       "</td>\n",
       "</tr>\n",
       "<tr>\n",
       "<td>\n",
       "\"Zimbabwe\"\n",
       "</td>\n",
       "<td>\n",
       "\"October\"\n",
       "</td>\n",
       "<td>\n",
       "46.3932\n",
       "</td>\n",
       "</tr>\n",
       "<tr>\n",
       "<td>\n",
       "\"Zimbabwe\"\n",
       "</td>\n",
       "<td>\n",
       "\"September\"\n",
       "</td>\n",
       "<td>\n",
       "40.555133\n",
       "</td>\n",
       "</tr>\n",
       "</tbody>\n",
       "</table>\n",
       "</div>"
      ],
      "text/plain": [
       "shape: (1620, 3)\n",
       "┌────────────────┬───────────┬───────────┐\n",
       "│ country_region ┆ date      ┆ mean      │\n",
       "│ ---            ┆ ---       ┆ ---       │\n",
       "│ str            ┆ str       ┆ f64       │\n",
       "╞════════════════╪═══════════╪═══════════╡\n",
       "│ Afghanistan    ┆ April     ┆ 59.95     │\n",
       "├╌╌╌╌╌╌╌╌╌╌╌╌╌╌╌╌┼╌╌╌╌╌╌╌╌╌╌╌┼╌╌╌╌╌╌╌╌╌╌╌┤\n",
       "│ Afghanistan    ┆ August    ┆ 56.489362 │\n",
       "├╌╌╌╌╌╌╌╌╌╌╌╌╌╌╌╌┼╌╌╌╌╌╌╌╌╌╌╌┼╌╌╌╌╌╌╌╌╌╌╌┤\n",
       "│ Afghanistan    ┆ December  ┆ 64.064516 │\n",
       "├╌╌╌╌╌╌╌╌╌╌╌╌╌╌╌╌┼╌╌╌╌╌╌╌╌╌╌╌┼╌╌╌╌╌╌╌╌╌╌╌┤\n",
       "│ Afghanistan    ┆ February  ┆ 54.802817 │\n",
       "├╌╌╌╌╌╌╌╌╌╌╌╌╌╌╌╌┼╌╌╌╌╌╌╌╌╌╌╌┼╌╌╌╌╌╌╌╌╌╌╌┤\n",
       "│ ...            ┆ ...       ┆ ...       │\n",
       "├╌╌╌╌╌╌╌╌╌╌╌╌╌╌╌╌┼╌╌╌╌╌╌╌╌╌╌╌┼╌╌╌╌╌╌╌╌╌╌╌┤\n",
       "│ Zimbabwe       ┆ May       ┆ 47.511468 │\n",
       "├╌╌╌╌╌╌╌╌╌╌╌╌╌╌╌╌┼╌╌╌╌╌╌╌╌╌╌╌┼╌╌╌╌╌╌╌╌╌╌╌┤\n",
       "│ Zimbabwe       ┆ November  ┆ 47.378092 │\n",
       "├╌╌╌╌╌╌╌╌╌╌╌╌╌╌╌╌┼╌╌╌╌╌╌╌╌╌╌╌┼╌╌╌╌╌╌╌╌╌╌╌┤\n",
       "│ Zimbabwe       ┆ October   ┆ 46.3932   │\n",
       "├╌╌╌╌╌╌╌╌╌╌╌╌╌╌╌╌┼╌╌╌╌╌╌╌╌╌╌╌┼╌╌╌╌╌╌╌╌╌╌╌┤\n",
       "│ Zimbabwe       ┆ September ┆ 40.555133 │\n",
       "└────────────────┴───────────┴───────────┘"
      ]
     },
     "execution_count": 44,
     "metadata": {},
     "output_type": "execute_result"
    }
   ],
   "source": [
    "%%time\n",
    "(\n",
    "(pldf[['country_region','date', 'grocery_and_pharmacy_percent_change_from_baseline']]\n",
    " .with_column(pldf['date'].dt.month()\n",
    "              .cast(str)\n",
    "              .apply(lambda month:month_names.get(month)))\n",
    " \n",
    ")\n",
    "    .groupby(['country_region','date']).agg([pl.col('grocery_and_pharmacy_percent_change_from_baseline').mean().alias(\"mean\")])\n",
    "    .sort(by=[\"country_region\",\"date\"])\n",
    ")"
   ]
  }
 ],
 "metadata": {
  "kernelspec": {
   "display_name": "Python 3",
   "language": "python",
   "name": "python3"
  },
  "language_info": {
   "codemirror_mode": {
    "name": "ipython",
    "version": 3
   },
   "file_extension": ".py",
   "mimetype": "text/x-python",
   "name": "python",
   "nbconvert_exporter": "python",
   "pygments_lexer": "ipython3",
   "version": "3.8.5"
  }
 },
 "nbformat": 4,
 "nbformat_minor": 5
}
