{
 "cells": [
  {
   "cell_type": "code",
   "execution_count": 1,
   "id": "219d57bd-9669-4b32-b082-3e6c41050f5f",
   "metadata": {
    "execution": {
     "iopub.execute_input": "2022-08-05T17:52:43.737275Z",
     "iopub.status.busy": "2022-08-05T17:52:43.736725Z",
     "iopub.status.idle": "2022-08-05T17:52:43.752107Z",
     "shell.execute_reply": "2022-08-05T17:52:43.750185Z",
     "shell.execute_reply.started": "2022-08-05T17:52:43.737165Z"
    }
   },
   "outputs": [],
   "source": [
    "path = 'https://www.gstatic.com/covid19/mobility/Global_Mobility_Report.csv'"
   ]
  },
  {
   "cell_type": "code",
   "execution_count": 2,
   "id": "ec015585-85bb-4ec0-86a0-cea387cefd4b",
   "metadata": {
    "execution": {
     "iopub.execute_input": "2022-08-05T17:52:43.755419Z",
     "iopub.status.busy": "2022-08-05T17:52:43.754985Z",
     "iopub.status.idle": "2022-08-05T17:52:57.979223Z",
     "shell.execute_reply": "2022-08-05T17:52:57.977625Z",
     "shell.execute_reply.started": "2022-08-05T17:52:43.755367Z"
    }
   },
   "outputs": [
    {
     "name": "stdout",
     "output_type": "stream",
     "text": [
      "Requirement already satisfied: modin[dask] in /usr/local/lib/python3.9/dist-packages (0.15.2)\n",
      "Requirement already satisfied: pandas==1.4.3 in /usr/local/lib/python3.9/dist-packages (from modin[dask]) (1.4.3)\n",
      "Requirement already satisfied: numpy>=1.18.5 in /usr/local/lib/python3.9/dist-packages (from modin[dask]) (1.23.1)\n",
      "Requirement already satisfied: psutil in /usr/local/lib/python3.9/dist-packages (from modin[dask]) (5.9.1)\n",
      "Requirement already satisfied: packaging in /usr/local/lib/python3.9/dist-packages (from modin[dask]) (21.3)\n",
      "Requirement already satisfied: fsspec in /usr/local/lib/python3.9/dist-packages (from modin[dask]) (2022.5.0)\n",
      "Requirement already satisfied: dask<2022.2.0,>=2.22.0 in /usr/local/lib/python3.9/dist-packages (from modin[dask]) (2022.1.1)\n",
      "Requirement already satisfied: distributed<2022.2.0,>=2.22.0 in /usr/local/lib/python3.9/dist-packages (from modin[dask]) (2022.1.1)\n",
      "Requirement already satisfied: python-dateutil>=2.8.1 in /usr/local/lib/python3.9/dist-packages (from pandas==1.4.3->modin[dask]) (2.8.2)\n",
      "Requirement already satisfied: pytz>=2020.1 in /usr/local/lib/python3.9/dist-packages (from pandas==1.4.3->modin[dask]) (2022.1)\n",
      "Requirement already satisfied: cloudpickle>=1.1.1 in /usr/local/lib/python3.9/dist-packages (from dask<2022.2.0,>=2.22.0->modin[dask]) (2.1.0)\n",
      "Requirement already satisfied: toolz>=0.8.2 in /usr/local/lib/python3.9/dist-packages (from dask<2022.2.0,>=2.22.0->modin[dask]) (0.12.0)\n",
      "Requirement already satisfied: pyyaml>=5.3.1 in /usr/local/lib/python3.9/dist-packages (from dask<2022.2.0,>=2.22.0->modin[dask]) (5.4.1)\n",
      "Requirement already satisfied: partd>=0.3.10 in /usr/local/lib/python3.9/dist-packages (from dask<2022.2.0,>=2.22.0->modin[dask]) (1.2.0)\n",
      "Requirement already satisfied: sortedcontainers!=2.0.0,!=2.0.1 in /usr/local/lib/python3.9/dist-packages (from distributed<2022.2.0,>=2.22.0->modin[dask]) (2.4.0)\n",
      "Requirement already satisfied: jinja2 in /usr/local/lib/python3.9/dist-packages (from distributed<2022.2.0,>=2.22.0->modin[dask]) (3.1.2)\n",
      "Requirement already satisfied: tblib>=1.6.0 in /usr/local/lib/python3.9/dist-packages (from distributed<2022.2.0,>=2.22.0->modin[dask]) (1.7.0)\n",
      "Requirement already satisfied: tornado>=6.0.3 in /usr/local/lib/python3.9/dist-packages (from distributed<2022.2.0,>=2.22.0->modin[dask]) (6.2)\n",
      "Requirement already satisfied: click>=6.6 in /usr/local/lib/python3.9/dist-packages (from distributed<2022.2.0,>=2.22.0->modin[dask]) (8.1.3)\n",
      "Requirement already satisfied: msgpack>=0.6.0 in /usr/local/lib/python3.9/dist-packages (from distributed<2022.2.0,>=2.22.0->modin[dask]) (1.0.4)\n",
      "Requirement already satisfied: zict>=0.1.3 in /usr/local/lib/python3.9/dist-packages (from distributed<2022.2.0,>=2.22.0->modin[dask]) (2.2.0)\n",
      "Requirement already satisfied: setuptools in /usr/local/lib/python3.9/dist-packages (from distributed<2022.2.0,>=2.22.0->modin[dask]) (63.1.0)\n",
      "Requirement already satisfied: pyparsing!=3.0.5,>=2.0.2 in /usr/local/lib/python3.9/dist-packages (from packaging->modin[dask]) (3.0.9)\n",
      "Requirement already satisfied: locket in /usr/local/lib/python3.9/dist-packages (from partd>=0.3.10->dask<2022.2.0,>=2.22.0->modin[dask]) (1.0.0)\n",
      "Requirement already satisfied: six>=1.5 in /usr/lib/python3/dist-packages (from python-dateutil>=2.8.1->pandas==1.4.3->modin[dask]) (1.14.0)\n",
      "Requirement already satisfied: heapdict in /usr/local/lib/python3.9/dist-packages (from zict>=0.1.3->distributed<2022.2.0,>=2.22.0->modin[dask]) (1.0.1)\n",
      "Requirement already satisfied: MarkupSafe>=2.0 in /usr/local/lib/python3.9/dist-packages (from jinja2->distributed<2022.2.0,>=2.22.0->modin[dask]) (2.1.1)\n",
      "\u001b[33mWARNING: Running pip as the 'root' user can result in broken permissions and conflicting behaviour with the system package manager. It is recommended to use a virtual environment instead: https://pip.pypa.io/warnings/venv\u001b[0m\u001b[33m\n",
      "\u001b[0m--- Logging error ---\n",
      "Traceback (most recent call last):\n",
      "  File \"/usr/local/lib/python3.9/dist-packages/pip/_internal/utils/logging.py\", line 177, in emit\n",
      "    self.console.print(renderable, overflow=\"ignore\", crop=False, style=style)\n",
      "  File \"/usr/local/lib/python3.9/dist-packages/pip/_vendor/rich/console.py\", line 1673, in print\n",
      "    extend(render(renderable, render_options))\n",
      "  File \"/usr/local/lib/python3.9/dist-packages/pip/_vendor/rich/console.py\", line 1305, in render\n",
      "    for render_output in iter_render:\n",
      "  File \"/usr/local/lib/python3.9/dist-packages/pip/_internal/utils/logging.py\", line 134, in __rich_console__\n",
      "    for line in lines:\n",
      "  File \"/usr/local/lib/python3.9/dist-packages/pip/_vendor/rich/segment.py\", line 249, in split_lines\n",
      "    for segment in segments:\n",
      "  File \"/usr/local/lib/python3.9/dist-packages/pip/_vendor/rich/console.py\", line 1283, in render\n",
      "    renderable = rich_cast(renderable)\n",
      "  File \"/usr/local/lib/python3.9/dist-packages/pip/_vendor/rich/protocol.py\", line 36, in rich_cast\n",
      "    renderable = cast_method()\n",
      "  File \"/usr/local/lib/python3.9/dist-packages/pip/_internal/self_outdated_check.py\", line 130, in __rich__\n",
      "    pip_cmd = get_best_invocation_for_this_pip()\n",
      "  File \"/usr/local/lib/python3.9/dist-packages/pip/_internal/utils/entrypoints.py\", line 58, in get_best_invocation_for_this_pip\n",
      "    if found_executable and os.path.samefile(\n",
      "  File \"/usr/lib/python3.9/genericpath.py\", line 101, in samefile\n",
      "    s2 = os.stat(f2)\n",
      "FileNotFoundError: [Errno 2] No such file or directory: '/usr/bin/pip'\n",
      "Call stack:\n",
      "  File \"/usr/local/bin/pip\", line 8, in <module>\n",
      "    sys.exit(main())\n",
      "  File \"/usr/local/lib/python3.9/dist-packages/pip/_internal/cli/main.py\", line 70, in main\n",
      "    return command.main(cmd_args)\n",
      "  File \"/usr/local/lib/python3.9/dist-packages/pip/_internal/cli/base_command.py\", line 101, in main\n",
      "    return self._main(args)\n",
      "  File \"/usr/local/lib/python3.9/dist-packages/pip/_internal/cli/base_command.py\", line 223, in _main\n",
      "    self.handle_pip_version_check(options)\n",
      "  File \"/usr/local/lib/python3.9/dist-packages/pip/_internal/cli/req_command.py\", line 190, in handle_pip_version_check\n",
      "    pip_self_version_check(session, options)\n",
      "  File \"/usr/local/lib/python3.9/dist-packages/pip/_internal/self_outdated_check.py\", line 236, in pip_self_version_check\n",
      "    logger.warning(\"[present-rich] %s\", upgrade_prompt)\n",
      "  File \"/usr/lib/python3.9/logging/__init__.py\", line 1458, in warning\n",
      "    self._log(WARNING, msg, args, **kwargs)\n",
      "  File \"/usr/lib/python3.9/logging/__init__.py\", line 1589, in _log\n",
      "    self.handle(record)\n",
      "  File \"/usr/lib/python3.9/logging/__init__.py\", line 1599, in handle\n",
      "    self.callHandlers(record)\n",
      "  File \"/usr/lib/python3.9/logging/__init__.py\", line 1661, in callHandlers\n",
      "    hdlr.handle(record)\n",
      "  File \"/usr/lib/python3.9/logging/__init__.py\", line 952, in handle\n",
      "    self.emit(record)\n",
      "  File \"/usr/local/lib/python3.9/dist-packages/pip/_internal/utils/logging.py\", line 179, in emit\n",
      "    self.handleError(record)\n",
      "Message: '[present-rich] %s'\n",
      "Arguments: (UpgradePrompt(old='22.2.1', new='22.2.2'),)\n",
      "Requirement already satisfied: polars in /usr/local/lib/python3.9/dist-packages (0.13.61)\n",
      "Requirement already satisfied: typing_extensions>=4.0.0 in /usr/local/lib/python3.9/dist-packages (from polars) (4.3.0)\n",
      "\u001b[33mWARNING: Running pip as the 'root' user can result in broken permissions and conflicting behaviour with the system package manager. It is recommended to use a virtual environment instead: https://pip.pypa.io/warnings/venv\u001b[0m\u001b[33m\n",
      "\u001b[0m--- Logging error ---\n",
      "Traceback (most recent call last):\n",
      "  File \"/usr/local/lib/python3.9/dist-packages/pip/_internal/utils/logging.py\", line 177, in emit\n",
      "    self.console.print(renderable, overflow=\"ignore\", crop=False, style=style)\n",
      "  File \"/usr/local/lib/python3.9/dist-packages/pip/_vendor/rich/console.py\", line 1673, in print\n",
      "    extend(render(renderable, render_options))\n",
      "  File \"/usr/local/lib/python3.9/dist-packages/pip/_vendor/rich/console.py\", line 1305, in render\n",
      "    for render_output in iter_render:\n",
      "  File \"/usr/local/lib/python3.9/dist-packages/pip/_internal/utils/logging.py\", line 134, in __rich_console__\n",
      "    for line in lines:\n",
      "  File \"/usr/local/lib/python3.9/dist-packages/pip/_vendor/rich/segment.py\", line 249, in split_lines\n",
      "    for segment in segments:\n",
      "  File \"/usr/local/lib/python3.9/dist-packages/pip/_vendor/rich/console.py\", line 1283, in render\n",
      "    renderable = rich_cast(renderable)\n",
      "  File \"/usr/local/lib/python3.9/dist-packages/pip/_vendor/rich/protocol.py\", line 36, in rich_cast\n",
      "    renderable = cast_method()\n",
      "  File \"/usr/local/lib/python3.9/dist-packages/pip/_internal/self_outdated_check.py\", line 130, in __rich__\n",
      "    pip_cmd = get_best_invocation_for_this_pip()\n",
      "  File \"/usr/local/lib/python3.9/dist-packages/pip/_internal/utils/entrypoints.py\", line 58, in get_best_invocation_for_this_pip\n",
      "    if found_executable and os.path.samefile(\n",
      "  File \"/usr/lib/python3.9/genericpath.py\", line 101, in samefile\n",
      "    s2 = os.stat(f2)\n",
      "FileNotFoundError: [Errno 2] No such file or directory: '/usr/bin/pip'\n",
      "Call stack:\n",
      "  File \"/usr/local/bin/pip\", line 8, in <module>\n",
      "    sys.exit(main())\n",
      "  File \"/usr/local/lib/python3.9/dist-packages/pip/_internal/cli/main.py\", line 70, in main\n",
      "    return command.main(cmd_args)\n",
      "  File \"/usr/local/lib/python3.9/dist-packages/pip/_internal/cli/base_command.py\", line 101, in main\n",
      "    return self._main(args)\n",
      "  File \"/usr/local/lib/python3.9/dist-packages/pip/_internal/cli/base_command.py\", line 223, in _main\n",
      "    self.handle_pip_version_check(options)\n",
      "  File \"/usr/local/lib/python3.9/dist-packages/pip/_internal/cli/req_command.py\", line 190, in handle_pip_version_check\n",
      "    pip_self_version_check(session, options)\n",
      "  File \"/usr/local/lib/python3.9/dist-packages/pip/_internal/self_outdated_check.py\", line 236, in pip_self_version_check\n",
      "    logger.warning(\"[present-rich] %s\", upgrade_prompt)\n",
      "  File \"/usr/lib/python3.9/logging/__init__.py\", line 1458, in warning\n",
      "    self._log(WARNING, msg, args, **kwargs)\n",
      "  File \"/usr/lib/python3.9/logging/__init__.py\", line 1589, in _log\n",
      "    self.handle(record)\n",
      "  File \"/usr/lib/python3.9/logging/__init__.py\", line 1599, in handle\n",
      "    self.callHandlers(record)\n",
      "  File \"/usr/lib/python3.9/logging/__init__.py\", line 1661, in callHandlers\n",
      "    hdlr.handle(record)\n",
      "  File \"/usr/lib/python3.9/logging/__init__.py\", line 952, in handle\n",
      "    self.emit(record)\n",
      "  File \"/usr/local/lib/python3.9/dist-packages/pip/_internal/utils/logging.py\", line 179, in emit\n",
      "    self.handleError(record)\n",
      "Message: '[present-rich] %s'\n",
      "Arguments: (UpgradePrompt(old='22.2.1', new='22.2.2'),)\n",
      "Requirement already satisfied: pyarrow in /usr/local/lib/python3.9/dist-packages (8.0.0)\n",
      "Requirement already satisfied: numpy>=1.16.6 in /usr/local/lib/python3.9/dist-packages (from pyarrow) (1.23.1)\n",
      "\u001b[33mWARNING: Running pip as the 'root' user can result in broken permissions and conflicting behaviour with the system package manager. It is recommended to use a virtual environment instead: https://pip.pypa.io/warnings/venv\u001b[0m\u001b[33m\n",
      "\u001b[0m--- Logging error ---\n",
      "Traceback (most recent call last):\n",
      "  File \"/usr/local/lib/python3.9/dist-packages/pip/_internal/utils/logging.py\", line 177, in emit\n",
      "    self.console.print(renderable, overflow=\"ignore\", crop=False, style=style)\n",
      "  File \"/usr/local/lib/python3.9/dist-packages/pip/_vendor/rich/console.py\", line 1673, in print\n",
      "    extend(render(renderable, render_options))\n",
      "  File \"/usr/local/lib/python3.9/dist-packages/pip/_vendor/rich/console.py\", line 1305, in render\n",
      "    for render_output in iter_render:\n",
      "  File \"/usr/local/lib/python3.9/dist-packages/pip/_internal/utils/logging.py\", line 134, in __rich_console__\n",
      "    for line in lines:\n",
      "  File \"/usr/local/lib/python3.9/dist-packages/pip/_vendor/rich/segment.py\", line 249, in split_lines\n",
      "    for segment in segments:\n",
      "  File \"/usr/local/lib/python3.9/dist-packages/pip/_vendor/rich/console.py\", line 1283, in render\n",
      "    renderable = rich_cast(renderable)\n",
      "  File \"/usr/local/lib/python3.9/dist-packages/pip/_vendor/rich/protocol.py\", line 36, in rich_cast\n",
      "    renderable = cast_method()\n",
      "  File \"/usr/local/lib/python3.9/dist-packages/pip/_internal/self_outdated_check.py\", line 130, in __rich__\n",
      "    pip_cmd = get_best_invocation_for_this_pip()\n",
      "  File \"/usr/local/lib/python3.9/dist-packages/pip/_internal/utils/entrypoints.py\", line 58, in get_best_invocation_for_this_pip\n",
      "    if found_executable and os.path.samefile(\n",
      "  File \"/usr/lib/python3.9/genericpath.py\", line 101, in samefile\n",
      "    s2 = os.stat(f2)\n",
      "FileNotFoundError: [Errno 2] No such file or directory: '/usr/bin/pip'\n",
      "Call stack:\n",
      "  File \"/usr/local/bin/pip\", line 8, in <module>\n",
      "    sys.exit(main())\n",
      "  File \"/usr/local/lib/python3.9/dist-packages/pip/_internal/cli/main.py\", line 70, in main\n",
      "    return command.main(cmd_args)\n",
      "  File \"/usr/local/lib/python3.9/dist-packages/pip/_internal/cli/base_command.py\", line 101, in main\n",
      "    return self._main(args)\n",
      "  File \"/usr/local/lib/python3.9/dist-packages/pip/_internal/cli/base_command.py\", line 223, in _main\n",
      "    self.handle_pip_version_check(options)\n",
      "  File \"/usr/local/lib/python3.9/dist-packages/pip/_internal/cli/req_command.py\", line 190, in handle_pip_version_check\n",
      "    pip_self_version_check(session, options)\n",
      "  File \"/usr/local/lib/python3.9/dist-packages/pip/_internal/self_outdated_check.py\", line 236, in pip_self_version_check\n",
      "    logger.warning(\"[present-rich] %s\", upgrade_prompt)\n",
      "  File \"/usr/lib/python3.9/logging/__init__.py\", line 1458, in warning\n",
      "    self._log(WARNING, msg, args, **kwargs)\n",
      "  File \"/usr/lib/python3.9/logging/__init__.py\", line 1589, in _log\n",
      "    self.handle(record)\n",
      "  File \"/usr/lib/python3.9/logging/__init__.py\", line 1599, in handle\n",
      "    self.callHandlers(record)\n",
      "  File \"/usr/lib/python3.9/logging/__init__.py\", line 1661, in callHandlers\n",
      "    hdlr.handle(record)\n",
      "  File \"/usr/lib/python3.9/logging/__init__.py\", line 952, in handle\n",
      "    self.emit(record)\n",
      "  File \"/usr/local/lib/python3.9/dist-packages/pip/_internal/utils/logging.py\", line 179, in emit\n",
      "    self.handleError(record)\n",
      "Message: '[present-rich] %s'\n",
      "Arguments: (UpgradePrompt(old='22.2.1', new='22.2.2'),)\n"
     ]
    }
   ],
   "source": [
    "!pip install modin[dask]\n",
    "!pip install polars\n",
    "!pip install pyarrow"
   ]
  },
  {
   "cell_type": "code",
   "execution_count": 3,
   "id": "b6352f1b-038a-4a24-ac4b-a654ebabcea5",
   "metadata": {
    "execution": {
     "iopub.execute_input": "2022-08-05T17:52:57.982024Z",
     "iopub.status.busy": "2022-08-05T17:52:57.981612Z",
     "iopub.status.idle": "2022-08-05T17:52:57.987981Z",
     "shell.execute_reply": "2022-08-05T17:52:57.986343Z",
     "shell.execute_reply.started": "2022-08-05T17:52:57.981979Z"
    }
   },
   "outputs": [],
   "source": [
    "!wget -r -nc https://www.gstatic.com/covid19/mobility/Global_Mobility_Report.csv"
   ]
  },
  {
   "cell_type": "code",
   "execution_count": 4,
   "id": "a6e28a17-ae64-4a0f-ac93-68314ee4e8dd",
   "metadata": {
    "execution": {
     "iopub.execute_input": "2022-08-05T17:52:57.991380Z",
     "iopub.status.busy": "2022-08-05T17:52:57.990942Z",
     "iopub.status.idle": "2022-08-05T17:52:59.319804Z",
     "shell.execute_reply": "2022-08-05T17:52:59.318655Z",
     "shell.execute_reply.started": "2022-08-05T17:52:57.991343Z"
    }
   },
   "outputs": [],
   "source": [
    "import polars as pl\n",
    "import pyarrow as pa\n",
    "import pandas as pd\n",
    "import dask\n",
    "import dask.dataframe as dd\n",
    "import modin.pandas as md\n",
    "import pyarrow.compute as pc"
   ]
  },
  {
   "cell_type": "code",
   "execution_count": 5,
   "id": "c7592024-b108-48b5-98b9-bb3a6ee68005",
   "metadata": {
    "execution": {
     "iopub.execute_input": "2022-08-05T17:52:59.322307Z",
     "iopub.status.busy": "2022-08-05T17:52:59.321005Z",
     "iopub.status.idle": "2022-08-05T17:52:59.382933Z",
     "shell.execute_reply": "2022-08-05T17:52:59.381629Z",
     "shell.execute_reply.started": "2022-08-05T17:52:59.322270Z"
    }
   },
   "outputs": [
    {
     "data": {
      "text/html": [
       "<div>\n",
       "<style scoped>\n",
       "    .dataframe tbody tr th:only-of-type {\n",
       "        vertical-align: middle;\n",
       "    }\n",
       "\n",
       "    .dataframe tbody tr th {\n",
       "        vertical-align: top;\n",
       "    }\n",
       "\n",
       "    .dataframe thead th {\n",
       "        text-align: right;\n",
       "    }\n",
       "</style>\n",
       "<table border=\"1\" class=\"dataframe\">\n",
       "  <thead>\n",
       "    <tr style=\"text-align: right;\">\n",
       "      <th></th>\n",
       "      <th>country_region_code</th>\n",
       "      <th>country_region</th>\n",
       "      <th>sub_region_1</th>\n",
       "      <th>sub_region_2</th>\n",
       "      <th>metro_area</th>\n",
       "      <th>iso_3166_2_code</th>\n",
       "      <th>census_fips_code</th>\n",
       "      <th>place_id</th>\n",
       "      <th>date</th>\n",
       "      <th>retail_and_recreation_percent_change_from_baseline</th>\n",
       "      <th>grocery_and_pharmacy_percent_change_from_baseline</th>\n",
       "      <th>parks_percent_change_from_baseline</th>\n",
       "      <th>transit_stations_percent_change_from_baseline</th>\n",
       "      <th>workplaces_percent_change_from_baseline</th>\n",
       "      <th>residential_percent_change_from_baseline</th>\n",
       "    </tr>\n",
       "  </thead>\n",
       "  <tbody>\n",
       "    <tr>\n",
       "      <th>0</th>\n",
       "      <td>AE</td>\n",
       "      <td>United Arab Emirates</td>\n",
       "      <td>NaN</td>\n",
       "      <td>NaN</td>\n",
       "      <td>NaN</td>\n",
       "      <td>NaN</td>\n",
       "      <td>NaN</td>\n",
       "      <td>ChIJvRKrsd9IXj4RpwoIwFYv0zM</td>\n",
       "      <td>2020-02-15</td>\n",
       "      <td>0</td>\n",
       "      <td>4</td>\n",
       "      <td>5</td>\n",
       "      <td>0</td>\n",
       "      <td>2</td>\n",
       "      <td>1</td>\n",
       "    </tr>\n",
       "    <tr>\n",
       "      <th>1</th>\n",
       "      <td>AE</td>\n",
       "      <td>United Arab Emirates</td>\n",
       "      <td>NaN</td>\n",
       "      <td>NaN</td>\n",
       "      <td>NaN</td>\n",
       "      <td>NaN</td>\n",
       "      <td>NaN</td>\n",
       "      <td>ChIJvRKrsd9IXj4RpwoIwFYv0zM</td>\n",
       "      <td>2020-02-16</td>\n",
       "      <td>1</td>\n",
       "      <td>4</td>\n",
       "      <td>4</td>\n",
       "      <td>1</td>\n",
       "      <td>2</td>\n",
       "      <td>1</td>\n",
       "    </tr>\n",
       "    <tr>\n",
       "      <th>2</th>\n",
       "      <td>AE</td>\n",
       "      <td>United Arab Emirates</td>\n",
       "      <td>NaN</td>\n",
       "      <td>NaN</td>\n",
       "      <td>NaN</td>\n",
       "      <td>NaN</td>\n",
       "      <td>NaN</td>\n",
       "      <td>ChIJvRKrsd9IXj4RpwoIwFYv0zM</td>\n",
       "      <td>2020-02-17</td>\n",
       "      <td>-1</td>\n",
       "      <td>1</td>\n",
       "      <td>5</td>\n",
       "      <td>1</td>\n",
       "      <td>2</td>\n",
       "      <td>1</td>\n",
       "    </tr>\n",
       "  </tbody>\n",
       "</table>\n",
       "</div>"
      ],
      "text/plain": [
       "  country_region_code        country_region  sub_region_1  sub_region_2  \\\n",
       "0                  AE  United Arab Emirates           NaN           NaN   \n",
       "1                  AE  United Arab Emirates           NaN           NaN   \n",
       "2                  AE  United Arab Emirates           NaN           NaN   \n",
       "\n",
       "   metro_area  iso_3166_2_code  census_fips_code                     place_id  \\\n",
       "0         NaN              NaN               NaN  ChIJvRKrsd9IXj4RpwoIwFYv0zM   \n",
       "1         NaN              NaN               NaN  ChIJvRKrsd9IXj4RpwoIwFYv0zM   \n",
       "2         NaN              NaN               NaN  ChIJvRKrsd9IXj4RpwoIwFYv0zM   \n",
       "\n",
       "         date  retail_and_recreation_percent_change_from_baseline  \\\n",
       "0  2020-02-15                                                  0    \n",
       "1  2020-02-16                                                  1    \n",
       "2  2020-02-17                                                 -1    \n",
       "\n",
       "   grocery_and_pharmacy_percent_change_from_baseline  \\\n",
       "0                                                  4   \n",
       "1                                                  4   \n",
       "2                                                  1   \n",
       "\n",
       "   parks_percent_change_from_baseline  \\\n",
       "0                                   5   \n",
       "1                                   4   \n",
       "2                                   5   \n",
       "\n",
       "   transit_stations_percent_change_from_baseline  \\\n",
       "0                                              0   \n",
       "1                                              1   \n",
       "2                                              1   \n",
       "\n",
       "   workplaces_percent_change_from_baseline  \\\n",
       "0                                        2   \n",
       "1                                        2   \n",
       "2                                        2   \n",
       "\n",
       "   residential_percent_change_from_baseline  \n",
       "0                                         1  \n",
       "1                                         1  \n",
       "2                                         1  "
      ]
     },
     "execution_count": 5,
     "metadata": {},
     "output_type": "execute_result"
    }
   ],
   "source": [
    "pd.read_csv('Global_Mobility_Report.csv', nrows=3)"
   ]
  },
  {
   "cell_type": "code",
   "execution_count": 6,
   "id": "6c4ecb48-9cfa-43b9-87e3-656f3a920ebd",
   "metadata": {
    "execution": {
     "iopub.execute_input": "2022-08-05T17:52:59.385158Z",
     "iopub.status.busy": "2022-08-05T17:52:59.384691Z",
     "iopub.status.idle": "2022-08-05T17:52:59.400176Z",
     "shell.execute_reply": "2022-08-05T17:52:59.399043Z",
     "shell.execute_reply.started": "2022-08-05T17:52:59.385122Z"
    }
   },
   "outputs": [
    {
     "data": {
      "text/plain": [
       "Index(['country_region_code', 'country_region', 'sub_region_1', 'sub_region_2',\n",
       "       'metro_area', 'iso_3166_2_code', 'census_fips_code', 'place_id', 'date',\n",
       "       'retail_and_recreation_percent_change_from_baseline',\n",
       "       'grocery_and_pharmacy_percent_change_from_baseline',\n",
       "       'parks_percent_change_from_baseline',\n",
       "       'transit_stations_percent_change_from_baseline',\n",
       "       'workplaces_percent_change_from_baseline',\n",
       "       'residential_percent_change_from_baseline'],\n",
       "      dtype='object')"
      ]
     },
     "execution_count": 6,
     "metadata": {},
     "output_type": "execute_result"
    }
   ],
   "source": [
    "pd.read_csv('Global_Mobility_Report.csv', nrows=3).columns"
   ]
  },
  {
   "cell_type": "code",
   "execution_count": 7,
   "id": "dbacb01a-9eb9-45b3-9c12-2132d23e0f4c",
   "metadata": {
    "execution": {
     "iopub.execute_input": "2022-08-05T17:52:59.402175Z",
     "iopub.status.busy": "2022-08-05T17:52:59.401779Z",
     "iopub.status.idle": "2022-08-05T17:52:59.410249Z",
     "shell.execute_reply": "2022-08-05T17:52:59.408642Z",
     "shell.execute_reply.started": "2022-08-05T17:52:59.402137Z"
    }
   },
   "outputs": [],
   "source": [
    "columns = ['country_region_code', 'country_region', 'date',\n",
    "       'retail_and_recreation_percent_change_from_baseline',\n",
    "       'grocery_and_pharmacy_percent_change_from_baseline',\n",
    "       'parks_percent_change_from_baseline',\n",
    "       'transit_stations_percent_change_from_baseline',\n",
    "       'workplaces_percent_change_from_baseline',\n",
    "       'residential_percent_change_from_baseline']"
   ]
  },
  {
   "cell_type": "code",
   "execution_count": 8,
   "id": "75fd24b9-f591-4012-b0a0-8bee53aba61f",
   "metadata": {
    "execution": {
     "iopub.execute_input": "2022-08-05T17:52:59.412459Z",
     "iopub.status.busy": "2022-08-05T17:52:59.412004Z",
     "iopub.status.idle": "2022-08-05T17:53:01.295328Z",
     "shell.execute_reply": "2022-08-05T17:53:01.294255Z",
     "shell.execute_reply.started": "2022-08-05T17:52:59.412418Z"
    }
   },
   "outputs": [
    {
     "data": {
      "text/html": [
       "<div>\n",
       "<style scoped>\n",
       "    .dataframe tbody tr th:only-of-type {\n",
       "        vertical-align: middle;\n",
       "    }\n",
       "\n",
       "    .dataframe tbody tr th {\n",
       "        vertical-align: top;\n",
       "    }\n",
       "\n",
       "    .dataframe thead th {\n",
       "        text-align: right;\n",
       "    }\n",
       "</style>\n",
       "<table border=\"1\" class=\"dataframe\">\n",
       "  <thead>\n",
       "    <tr style=\"text-align: right;\">\n",
       "      <th></th>\n",
       "      <th>country_region_code</th>\n",
       "      <th>country_region</th>\n",
       "      <th>date</th>\n",
       "      <th>retail_and_recreation_percent_change_from_baseline</th>\n",
       "      <th>grocery_and_pharmacy_percent_change_from_baseline</th>\n",
       "      <th>parks_percent_change_from_baseline</th>\n",
       "      <th>transit_stations_percent_change_from_baseline</th>\n",
       "      <th>workplaces_percent_change_from_baseline</th>\n",
       "      <th>residential_percent_change_from_baseline</th>\n",
       "    </tr>\n",
       "  </thead>\n",
       "  <tbody>\n",
       "    <tr>\n",
       "      <th>0</th>\n",
       "      <td>AE</td>\n",
       "      <td>United Arab Emirates</td>\n",
       "      <td>2020-02-15</td>\n",
       "      <td>0.0</td>\n",
       "      <td>4.0</td>\n",
       "      <td>5.0</td>\n",
       "      <td>0.0</td>\n",
       "      <td>2.0</td>\n",
       "      <td>1.0</td>\n",
       "    </tr>\n",
       "    <tr>\n",
       "      <th>1</th>\n",
       "      <td>AE</td>\n",
       "      <td>United Arab Emirates</td>\n",
       "      <td>2020-02-16</td>\n",
       "      <td>1.0</td>\n",
       "      <td>4.0</td>\n",
       "      <td>4.0</td>\n",
       "      <td>1.0</td>\n",
       "      <td>2.0</td>\n",
       "      <td>1.0</td>\n",
       "    </tr>\n",
       "    <tr>\n",
       "      <th>2</th>\n",
       "      <td>AE</td>\n",
       "      <td>United Arab Emirates</td>\n",
       "      <td>2020-02-17</td>\n",
       "      <td>-1.0</td>\n",
       "      <td>1.0</td>\n",
       "      <td>5.0</td>\n",
       "      <td>1.0</td>\n",
       "      <td>2.0</td>\n",
       "      <td>1.0</td>\n",
       "    </tr>\n",
       "    <tr>\n",
       "      <th>3</th>\n",
       "      <td>AE</td>\n",
       "      <td>United Arab Emirates</td>\n",
       "      <td>2020-02-18</td>\n",
       "      <td>-2.0</td>\n",
       "      <td>1.0</td>\n",
       "      <td>5.0</td>\n",
       "      <td>0.0</td>\n",
       "      <td>2.0</td>\n",
       "      <td>1.0</td>\n",
       "    </tr>\n",
       "    <tr>\n",
       "      <th>4</th>\n",
       "      <td>AE</td>\n",
       "      <td>United Arab Emirates</td>\n",
       "      <td>2020-02-19</td>\n",
       "      <td>-2.0</td>\n",
       "      <td>0.0</td>\n",
       "      <td>4.0</td>\n",
       "      <td>-1.0</td>\n",
       "      <td>2.0</td>\n",
       "      <td>1.0</td>\n",
       "    </tr>\n",
       "  </tbody>\n",
       "</table>\n",
       "</div>"
      ],
      "text/plain": [
       "  country_region_code        country_region       date  \\\n",
       "0                  AE  United Arab Emirates 2020-02-15   \n",
       "1                  AE  United Arab Emirates 2020-02-16   \n",
       "2                  AE  United Arab Emirates 2020-02-17   \n",
       "3                  AE  United Arab Emirates 2020-02-18   \n",
       "4                  AE  United Arab Emirates 2020-02-19   \n",
       "\n",
       "   retail_and_recreation_percent_change_from_baseline  \\\n",
       "0                                                0.0    \n",
       "1                                                1.0    \n",
       "2                                               -1.0    \n",
       "3                                               -2.0    \n",
       "4                                               -2.0    \n",
       "\n",
       "   grocery_and_pharmacy_percent_change_from_baseline  \\\n",
       "0                                                4.0   \n",
       "1                                                4.0   \n",
       "2                                                1.0   \n",
       "3                                                1.0   \n",
       "4                                                0.0   \n",
       "\n",
       "   parks_percent_change_from_baseline  \\\n",
       "0                                 5.0   \n",
       "1                                 4.0   \n",
       "2                                 5.0   \n",
       "3                                 5.0   \n",
       "4                                 4.0   \n",
       "\n",
       "   transit_stations_percent_change_from_baseline  \\\n",
       "0                                            0.0   \n",
       "1                                            1.0   \n",
       "2                                            1.0   \n",
       "3                                            0.0   \n",
       "4                                           -1.0   \n",
       "\n",
       "   workplaces_percent_change_from_baseline  \\\n",
       "0                                      2.0   \n",
       "1                                      2.0   \n",
       "2                                      2.0   \n",
       "3                                      2.0   \n",
       "4                                      2.0   \n",
       "\n",
       "   residential_percent_change_from_baseline  \n",
       "0                                       1.0  \n",
       "1                                       1.0  \n",
       "2                                       1.0  \n",
       "3                                       1.0  \n",
       "4                                       1.0  "
      ]
     },
     "execution_count": 8,
     "metadata": {},
     "output_type": "execute_result"
    }
   ],
   "source": [
    "# dd.read_csv('Global_Mobility_Report.csv').to_parquet('mobility.parquet',compression='snappy',engine='pyarrow', low_memory=False)\n",
    "(dd.read_csv('Global_Mobility_Report.csv',\n",
    "            assume_missing=True, \n",
    "            usecols= columns,\n",
    "            parse_dates=['date'])\n",
    "   .head()\n",
    ")"
   ]
  },
  {
   "cell_type": "code",
   "execution_count": 9,
   "id": "6ee3e1aa-ff60-4628-9d13-d2a8d8068bf0",
   "metadata": {
    "execution": {
     "iopub.execute_input": "2022-08-05T17:53:01.299410Z",
     "iopub.status.busy": "2022-08-05T17:53:01.299111Z",
     "iopub.status.idle": "2022-08-05T17:53:01.305927Z",
     "shell.execute_reply": "2022-08-05T17:53:01.304964Z",
     "shell.execute_reply.started": "2022-08-05T17:53:01.299383Z"
    }
   },
   "outputs": [
    {
     "data": {
      "text/plain": [
       "\"(dd.read_csv('Global_Mobility_Report.csv',\\n            assume_missing=True, \\n            usecols= columns,\\n            parse_dates=['date'])\\n).to_parquet('mobility.parquet',compression='snappy',engine='pyarrow')\\n\""
      ]
     },
     "execution_count": 9,
     "metadata": {},
     "output_type": "execute_result"
    }
   ],
   "source": [
    "(dd.read_csv('Global_Mobility_Report.csv',\n",
    "            assume_missing=True, \n",
    "            usecols= columns,\n",
    "            parse_dates=['date'])\n",
    ").to_parquet('mobility.parquet',compression='snappy',engine='pyarrow')\n"
   ]
  },
  {
   "cell_type": "code",
   "execution_count": 10,
   "id": "37cfc505-7787-4c36-af74-44fad8743e8b",
   "metadata": {
    "execution": {
     "iopub.execute_input": "2022-08-05T17:53:01.307703Z",
     "iopub.status.busy": "2022-08-05T17:53:01.307397Z",
     "iopub.status.idle": "2022-08-05T17:53:01.779756Z",
     "shell.execute_reply": "2022-08-05T17:53:01.778402Z",
     "shell.execute_reply.started": "2022-08-05T17:53:01.307672Z"
    }
   },
   "outputs": [
    {
     "name": "stdout",
     "output_type": "stream",
     "text": [
      "Global_Mobility_Report.csv  dask-worker-space  tutorial-env\n",
      "Test.ipynb\t\t    mobility.parquet   www.gstatic.com\n"
     ]
    }
   ],
   "source": [
    "!ls"
   ]
  },
  {
   "cell_type": "code",
   "execution_count": null,
   "id": "c8501c1e-0146-4cb1-9c0d-59600b72329e",
   "metadata": {},
   "outputs": [],
   "source": []
  },
  {
   "cell_type": "code",
   "execution_count": 11,
   "id": "37de36de-e29e-49b6-bf00-87be17cc3a61",
   "metadata": {
    "execution": {
     "iopub.execute_input": "2022-08-05T17:53:01.782000Z",
     "iopub.status.busy": "2022-08-05T17:53:01.781565Z",
     "iopub.status.idle": "2022-08-05T17:53:01.819976Z",
     "shell.execute_reply": "2022-08-05T17:53:01.818676Z",
     "shell.execute_reply.started": "2022-08-05T17:53:01.781955Z"
    }
   },
   "outputs": [
    {
     "name": "stdout",
     "output_type": "stream",
     "text": [
      "CPU times: user 20.6 ms, sys: 6.53 ms, total: 27.2 ms\n",
      "Wall time: 31.4 ms\n"
     ]
    }
   ],
   "source": [
    "%time dddf = dd.read_parquet('mobility.parquet', engine='pyarrow')"
   ]
  },
  {
   "cell_type": "code",
   "execution_count": 12,
   "id": "7c9feeca-adca-4a33-ab63-a81745cc59a6",
   "metadata": {
    "execution": {
     "iopub.execute_input": "2022-08-05T17:53:01.821821Z",
     "iopub.status.busy": "2022-08-05T17:53:01.821554Z",
     "iopub.status.idle": "2022-08-05T17:53:05.134768Z",
     "shell.execute_reply": "2022-08-05T17:53:05.133300Z",
     "shell.execute_reply.started": "2022-08-05T17:53:01.821794Z"
    }
   },
   "outputs": [
    {
     "name": "stderr",
     "output_type": "stream",
     "text": [
      "/usr/lib/python3.9/contextlib.py:126: UserWarning: Creating scratch directories is taking a surprisingly long time. This is often due to running workers on a network file system. Consider specifying a local-directory to point workers to write scratch data to a local disk.\n",
      "  next(self.gen)\n"
     ]
    }
   ],
   "source": [
    "from distributed import Client\n",
    "client = Client()"
   ]
  },
  {
   "cell_type": "code",
   "execution_count": 13,
   "id": "0896d4c7-b18d-4a8a-83b1-66d15517e988",
   "metadata": {
    "execution": {
     "iopub.execute_input": "2022-08-05T17:53:05.137441Z",
     "iopub.status.busy": "2022-08-05T17:53:05.137053Z",
     "iopub.status.idle": "2022-08-05T17:53:08.929290Z",
     "shell.execute_reply": "2022-08-05T17:53:08.927936Z",
     "shell.execute_reply.started": "2022-08-05T17:53:05.137402Z"
    }
   },
   "outputs": [
    {
     "name": "stdout",
     "output_type": "stream",
     "text": [
      "CPU times: user 583 ms, sys: 374 ms, total: 956 ms\n",
      "Wall time: 3.78 s\n"
     ]
    }
   ],
   "source": [
    "%time mddf = md.read_parquet('mobility.parquet', engine='pyarrow')"
   ]
  },
  {
   "cell_type": "code",
   "execution_count": 14,
   "id": "a15aa663-67a8-41ca-87ca-8c4b90a5891f",
   "metadata": {
    "execution": {
     "iopub.execute_input": "2022-08-05T17:53:08.931357Z",
     "iopub.status.busy": "2022-08-05T17:53:08.930608Z",
     "iopub.status.idle": "2022-08-05T17:53:11.804009Z",
     "shell.execute_reply": "2022-08-05T17:53:11.803110Z",
     "shell.execute_reply.started": "2022-08-05T17:53:08.931329Z"
    }
   },
   "outputs": [
    {
     "name": "stdout",
     "output_type": "stream",
     "text": [
      "CPU times: user 1.92 s, sys: 1.24 s, total: 3.16 s\n",
      "Wall time: 2.87 s\n"
     ]
    }
   ],
   "source": [
    "%time pdf = pd.read_parquet('mobility.parquet', engine='pyarrow')"
   ]
  },
  {
   "cell_type": "code",
   "execution_count": 15,
   "id": "3ff4cac5-ee06-4b40-83e0-fb833d74620d",
   "metadata": {
    "execution": {
     "iopub.execute_input": "2022-08-05T17:53:11.805609Z",
     "iopub.status.busy": "2022-08-05T17:53:11.805306Z",
     "iopub.status.idle": "2022-08-05T17:53:14.162044Z",
     "shell.execute_reply": "2022-08-05T17:53:14.160140Z",
     "shell.execute_reply.started": "2022-08-05T17:53:11.805583Z"
    }
   },
   "outputs": [
    {
     "name": "stdout",
     "output_type": "stream",
     "text": [
      "CPU times: user 1.42 s, sys: 1.23 s, total: 2.65 s\n",
      "Wall time: 2.35 s\n"
     ]
    }
   ],
   "source": [
    "%time pldf = pl.read_parquet('mobility.parquet', use_pyarrow=True)"
   ]
  },
  {
   "cell_type": "code",
   "execution_count": 16,
   "id": "03ba1009-6b31-4ca8-893b-f2b0d4586a5e",
   "metadata": {
    "execution": {
     "iopub.execute_input": "2022-08-05T17:53:14.164429Z",
     "iopub.status.busy": "2022-08-05T17:53:14.164084Z",
     "iopub.status.idle": "2022-08-05T17:53:15.578049Z",
     "shell.execute_reply": "2022-08-05T17:53:15.576759Z",
     "shell.execute_reply.started": "2022-08-05T17:53:14.164395Z"
    }
   },
   "outputs": [
    {
     "name": "stdout",
     "output_type": "stream",
     "text": [
      "CPU times: user 1.15 s, sys: 486 ms, total: 1.63 s\n",
      "Wall time: 1.41 s\n"
     ]
    }
   ],
   "source": [
    "%time padf = pa.parquet.read_table('mobility.parquet')"
   ]
  },
  {
   "cell_type": "markdown",
   "id": "7aeaa2ce-4397-4c46-b633-318401b109ec",
   "metadata": {
    "execution": {
     "iopub.execute_input": "2022-08-04T13:42:57.425207Z",
     "iopub.status.busy": "2022-08-04T13:42:57.424934Z",
     "iopub.status.idle": "2022-08-04T13:42:57.430793Z",
     "shell.execute_reply": "2022-08-04T13:42:57.429397Z",
     "shell.execute_reply.started": "2022-08-04T13:42:57.425182Z"
    }
   },
   "source": [
    "## Read Shape"
   ]
  },
  {
   "cell_type": "code",
   "execution_count": 17,
   "id": "5cb9f3fc-1d69-4eff-a754-2a3ef35670dc",
   "metadata": {
    "execution": {
     "iopub.execute_input": "2022-08-05T17:53:15.581003Z",
     "iopub.status.busy": "2022-08-05T17:53:15.580354Z",
     "iopub.status.idle": "2022-08-05T17:53:21.104339Z",
     "shell.execute_reply": "2022-08-05T17:53:21.103579Z",
     "shell.execute_reply.started": "2022-08-05T17:53:15.580974Z"
    }
   },
   "outputs": [
    {
     "name": "stdout",
     "output_type": "stream",
     "text": [
      "CPU times: user 624 ms, sys: 186 ms, total: 810 ms\n",
      "Wall time: 5.51 s\n"
     ]
    },
    {
     "data": {
      "text/plain": [
       "10806198"
      ]
     },
     "execution_count": 17,
     "metadata": {},
     "output_type": "execute_result"
    }
   ],
   "source": [
    "%time dddf.shape[0].compute()"
   ]
  },
  {
   "cell_type": "code",
   "execution_count": 18,
   "id": "d77a53b1-6c79-4684-9010-e2553ce17b77",
   "metadata": {
    "execution": {
     "iopub.execute_input": "2022-08-05T17:53:21.105936Z",
     "iopub.status.busy": "2022-08-05T17:53:21.105659Z",
     "iopub.status.idle": "2022-08-05T17:53:21.113070Z",
     "shell.execute_reply": "2022-08-05T17:53:21.112216Z",
     "shell.execute_reply.started": "2022-08-05T17:53:21.105911Z"
    }
   },
   "outputs": [
    {
     "name": "stdout",
     "output_type": "stream",
     "text": [
      "CPU times: user 13 µs, sys: 7 µs, total: 20 µs\n",
      "Wall time: 26.2 µs\n"
     ]
    },
    {
     "data": {
      "text/plain": [
       "(10806198, 9)"
      ]
     },
     "execution_count": 18,
     "metadata": {},
     "output_type": "execute_result"
    }
   ],
   "source": [
    "%time pdf.shape"
   ]
  },
  {
   "cell_type": "code",
   "execution_count": 19,
   "id": "fb5104f9-06ed-4afd-b7cc-0dadd6b9e8b3",
   "metadata": {
    "execution": {
     "iopub.execute_input": "2022-08-05T17:53:21.114438Z",
     "iopub.status.busy": "2022-08-05T17:53:21.114139Z",
     "iopub.status.idle": "2022-08-05T17:53:21.124246Z",
     "shell.execute_reply": "2022-08-05T17:53:21.122806Z",
     "shell.execute_reply.started": "2022-08-05T17:53:21.114414Z"
    }
   },
   "outputs": [
    {
     "name": "stdout",
     "output_type": "stream",
     "text": [
      "CPU times: user 34 µs, sys: 18 µs, total: 52 µs\n",
      "Wall time: 56.7 µs\n"
     ]
    },
    {
     "data": {
      "text/plain": [
       "(10806198, 9)"
      ]
     },
     "execution_count": 19,
     "metadata": {},
     "output_type": "execute_result"
    }
   ],
   "source": [
    "%time mddf.shape"
   ]
  },
  {
   "cell_type": "code",
   "execution_count": 20,
   "id": "2a1a659d-59a0-47dc-ab17-67b8e1833dcc",
   "metadata": {
    "execution": {
     "iopub.execute_input": "2022-08-05T17:53:21.126373Z",
     "iopub.status.busy": "2022-08-05T17:53:21.126117Z",
     "iopub.status.idle": "2022-08-05T17:53:21.137731Z",
     "shell.execute_reply": "2022-08-05T17:53:21.136585Z",
     "shell.execute_reply.started": "2022-08-05T17:53:21.126347Z"
    }
   },
   "outputs": [
    {
     "name": "stdout",
     "output_type": "stream",
     "text": [
      "CPU times: user 25 µs, sys: 13 µs, total: 38 µs\n",
      "Wall time: 42.9 µs\n"
     ]
    },
    {
     "data": {
      "text/plain": [
       "(10806198, 10)"
      ]
     },
     "execution_count": 20,
     "metadata": {},
     "output_type": "execute_result"
    }
   ],
   "source": [
    "%time pldf.shape"
   ]
  },
  {
   "cell_type": "code",
   "execution_count": 21,
   "id": "3ad91dc7-1e2b-41d4-b30d-9daed73e02bf",
   "metadata": {
    "execution": {
     "iopub.execute_input": "2022-08-05T17:53:21.139837Z",
     "iopub.status.busy": "2022-08-05T17:53:21.139574Z",
     "iopub.status.idle": "2022-08-05T17:53:21.146821Z",
     "shell.execute_reply": "2022-08-05T17:53:21.145922Z",
     "shell.execute_reply.started": "2022-08-05T17:53:21.139812Z"
    }
   },
   "outputs": [
    {
     "name": "stdout",
     "output_type": "stream",
     "text": [
      "CPU times: user 8 µs, sys: 5 µs, total: 13 µs\n",
      "Wall time: 17.4 µs\n"
     ]
    },
    {
     "data": {
      "text/plain": [
       "(10806198, 10)"
      ]
     },
     "execution_count": 21,
     "metadata": {},
     "output_type": "execute_result"
    }
   ],
   "source": [
    "%time padf.shape"
   ]
  },
  {
   "cell_type": "markdown",
   "id": "4118d9a3-d377-449f-a700-8ea7d7deec65",
   "metadata": {},
   "source": [
    "Pyarrow is the fastest. Not sure why Modin is slower than even Pandas."
   ]
  },
  {
   "cell_type": "markdown",
   "id": "a83a50f9-79e6-4963-8b99-ef14c1442857",
   "metadata": {},
   "source": [
    "## Country Region Count"
   ]
  },
  {
   "cell_type": "code",
   "execution_count": 22,
   "id": "ceb817ea-63e7-42cb-885c-45a7edfd9b84",
   "metadata": {
    "execution": {
     "iopub.execute_input": "2022-08-05T17:53:21.148384Z",
     "iopub.status.busy": "2022-08-05T17:53:21.148071Z",
     "iopub.status.idle": "2022-08-05T17:53:21.835121Z",
     "shell.execute_reply": "2022-08-05T17:53:21.834131Z",
     "shell.execute_reply.started": "2022-08-05T17:53:21.148359Z"
    }
   },
   "outputs": [
    {
     "name": "stdout",
     "output_type": "stream",
     "text": [
      "CPU times: user 77.2 ms, sys: 19 ms, total: 96.2 ms\n",
      "Wall time: 676 ms\n"
     ]
    },
    {
     "data": {
      "text/plain": [
       "United States     2312412\n",
       "Brazil            1808620\n",
       "India              598225\n",
       "Turkey             493512\n",
       "Argentina          378917\n",
       "United Kingdom     374096\n",
       "Poland             346884\n",
       "Netherlands        319961\n",
       "Colombia           286514\n",
       "Australia          250888\n",
       "Name: country_region, dtype: int64"
      ]
     },
     "execution_count": 22,
     "metadata": {},
     "output_type": "execute_result"
    }
   ],
   "source": [
    "%time dddf['country_region'].value_counts().nlargest(10).compute()"
   ]
  },
  {
   "cell_type": "code",
   "execution_count": 23,
   "id": "94b2b650-5487-4a2f-b537-9a5cb9e8d9c2",
   "metadata": {
    "execution": {
     "iopub.execute_input": "2022-08-05T17:53:21.837500Z",
     "iopub.status.busy": "2022-08-05T17:53:21.837177Z",
     "iopub.status.idle": "2022-08-05T17:53:22.311463Z",
     "shell.execute_reply": "2022-08-05T17:53:22.309879Z",
     "shell.execute_reply.started": "2022-08-05T17:53:21.837474Z"
    }
   },
   "outputs": [
    {
     "name": "stdout",
     "output_type": "stream",
     "text": [
      "CPU times: user 475 ms, sys: 0 ns, total: 475 ms\n",
      "Wall time: 464 ms\n"
     ]
    },
    {
     "data": {
      "text/plain": [
       "United States     2312412\n",
       "Brazil            1808620\n",
       "India              598225\n",
       "Turkey             493512\n",
       "Argentina          378917\n",
       "United Kingdom     374096\n",
       "Poland             346884\n",
       "Netherlands        319961\n",
       "Colombia           286514\n",
       "Australia          250888\n",
       "Name: country_region, dtype: int64"
      ]
     },
     "execution_count": 23,
     "metadata": {},
     "output_type": "execute_result"
    }
   ],
   "source": [
    "%time pdf['country_region'].value_counts().nlargest(10)"
   ]
  },
  {
   "cell_type": "code",
   "execution_count": 24,
   "id": "3e2376c3-5e92-43c4-a965-d67951e91716",
   "metadata": {
    "execution": {
     "iopub.execute_input": "2022-08-05T17:53:22.320487Z",
     "iopub.status.busy": "2022-08-05T17:53:22.320042Z",
     "iopub.status.idle": "2022-08-05T17:53:23.958728Z",
     "shell.execute_reply": "2022-08-05T17:53:23.957420Z",
     "shell.execute_reply.started": "2022-08-05T17:53:22.320458Z"
    }
   },
   "outputs": [
    {
     "name": "stderr",
     "output_type": "stream",
     "text": [
      "UserWarning: sort_values defaulting to pandas implementation.\n",
      "Please refer to https://modin.readthedocs.io/en/stable/supported_apis/defaulting_to_pandas.html for explanation.\n"
     ]
    },
    {
     "name": "stdout",
     "output_type": "stream",
     "text": [
      "CPU times: user 653 ms, sys: 59.7 ms, total: 713 ms\n",
      "Wall time: 1.6 s\n"
     ]
    },
    {
     "name": "stderr",
     "output_type": "stream",
     "text": [
      "UserWarning: `Series.nlargest` defaulting to pandas implementation.\n",
      "UserWarning: Distributing <class 'pandas.core.series.Series'> object. This may take some time.\n"
     ]
    },
    {
     "data": {
      "text/plain": [
       "United States     2312412\n",
       "Brazil            1808620\n",
       "India              598225\n",
       "Turkey             493512\n",
       "Argentina          378917\n",
       "United Kingdom     374096\n",
       "Poland             346884\n",
       "Netherlands        319961\n",
       "Colombia           286514\n",
       "Australia          250888\n",
       "Name: country_region, dtype: int64"
      ]
     },
     "execution_count": 24,
     "metadata": {},
     "output_type": "execute_result"
    }
   ],
   "source": [
    "%time mddf['country_region'].value_counts().nlargest(10)"
   ]
  },
  {
   "cell_type": "code",
   "execution_count": 25,
   "id": "2a4f45ab-c5d7-403d-a8f5-14d057640cb1",
   "metadata": {
    "execution": {
     "iopub.execute_input": "2022-08-05T17:53:23.961214Z",
     "iopub.status.busy": "2022-08-05T17:53:23.960284Z",
     "iopub.status.idle": "2022-08-05T17:53:24.272889Z",
     "shell.execute_reply": "2022-08-05T17:53:24.271422Z",
     "shell.execute_reply.started": "2022-08-05T17:53:23.961175Z"
    }
   },
   "outputs": [
    {
     "name": "stdout",
     "output_type": "stream",
     "text": [
      "CPU times: user 788 ms, sys: 303 ms, total: 1.09 s\n",
      "Wall time: 299 ms\n"
     ]
    },
    {
     "data": {
      "text/html": [
       "<div>\n",
       "<style scoped>\n",
       "    .dataframe tbody tr th:only-of-type {\n",
       "        vertical-align: middle;\n",
       "    }\n",
       "\n",
       "    .dataframe tbody tr th {\n",
       "        vertical-align: top;\n",
       "    }\n",
       "\n",
       "    .dataframe thead th {\n",
       "        text-align: right;\n",
       "    }\n",
       "\n",
       "    .dataframe td {\n",
       "        white-space: pre;\n",
       "    }\n",
       "\n",
       "    .dataframe td {\n",
       "        padding-top: 0;\n",
       "    }\n",
       "\n",
       "    .dataframe td {\n",
       "        padding-bottom: 0;\n",
       "    }\n",
       "\n",
       "    .dataframe td {\n",
       "        line-height: 95%;\n",
       "    }\n",
       "</style>\n",
       "<table border=\"1\" class=\"dataframe\" >\n",
       "<small>shape: (10, 2)</small>\n",
       "<thead>\n",
       "<tr>\n",
       "<th>\n",
       "country_region\n",
       "</th>\n",
       "<th>\n",
       "count\n",
       "</th>\n",
       "</tr>\n",
       "<tr>\n",
       "<td>\n",
       "str\n",
       "</td>\n",
       "<td>\n",
       "u32\n",
       "</td>\n",
       "</tr>\n",
       "</thead>\n",
       "<tbody>\n",
       "<tr>\n",
       "<td>\n",
       "\"United States\"\n",
       "</td>\n",
       "<td>\n",
       "2312412\n",
       "</td>\n",
       "</tr>\n",
       "<tr>\n",
       "<td>\n",
       "\"Brazil\"\n",
       "</td>\n",
       "<td>\n",
       "1808620\n",
       "</td>\n",
       "</tr>\n",
       "<tr>\n",
       "<td>\n",
       "\"India\"\n",
       "</td>\n",
       "<td>\n",
       "598225\n",
       "</td>\n",
       "</tr>\n",
       "<tr>\n",
       "<td>\n",
       "\"Turkey\"\n",
       "</td>\n",
       "<td>\n",
       "493512\n",
       "</td>\n",
       "</tr>\n",
       "<tr>\n",
       "<td>\n",
       "\"Argentina\"\n",
       "</td>\n",
       "<td>\n",
       "378917\n",
       "</td>\n",
       "</tr>\n",
       "<tr>\n",
       "<td>\n",
       "\"United Kingdom...\n",
       "</td>\n",
       "<td>\n",
       "374096\n",
       "</td>\n",
       "</tr>\n",
       "<tr>\n",
       "<td>\n",
       "\"Poland\"\n",
       "</td>\n",
       "<td>\n",
       "346884\n",
       "</td>\n",
       "</tr>\n",
       "<tr>\n",
       "<td>\n",
       "\"Netherlands\"\n",
       "</td>\n",
       "<td>\n",
       "319961\n",
       "</td>\n",
       "</tr>\n",
       "<tr>\n",
       "<td>\n",
       "\"Colombia\"\n",
       "</td>\n",
       "<td>\n",
       "286514\n",
       "</td>\n",
       "</tr>\n",
       "<tr>\n",
       "<td>\n",
       "\"Australia\"\n",
       "</td>\n",
       "<td>\n",
       "250888\n",
       "</td>\n",
       "</tr>\n",
       "</tbody>\n",
       "</table>\n",
       "</div>"
      ],
      "text/plain": [
       "shape: (10, 2)\n",
       "┌────────────────┬─────────┐\n",
       "│ country_region ┆ count   │\n",
       "│ ---            ┆ ---     │\n",
       "│ str            ┆ u32     │\n",
       "╞════════════════╪═════════╡\n",
       "│ United States  ┆ 2312412 │\n",
       "├╌╌╌╌╌╌╌╌╌╌╌╌╌╌╌╌┼╌╌╌╌╌╌╌╌╌┤\n",
       "│ Brazil         ┆ 1808620 │\n",
       "├╌╌╌╌╌╌╌╌╌╌╌╌╌╌╌╌┼╌╌╌╌╌╌╌╌╌┤\n",
       "│ India          ┆ 598225  │\n",
       "├╌╌╌╌╌╌╌╌╌╌╌╌╌╌╌╌┼╌╌╌╌╌╌╌╌╌┤\n",
       "│ Turkey         ┆ 493512  │\n",
       "├╌╌╌╌╌╌╌╌╌╌╌╌╌╌╌╌┼╌╌╌╌╌╌╌╌╌┤\n",
       "│ ...            ┆ ...     │\n",
       "├╌╌╌╌╌╌╌╌╌╌╌╌╌╌╌╌┼╌╌╌╌╌╌╌╌╌┤\n",
       "│ Poland         ┆ 346884  │\n",
       "├╌╌╌╌╌╌╌╌╌╌╌╌╌╌╌╌┼╌╌╌╌╌╌╌╌╌┤\n",
       "│ Netherlands    ┆ 319961  │\n",
       "├╌╌╌╌╌╌╌╌╌╌╌╌╌╌╌╌┼╌╌╌╌╌╌╌╌╌┤\n",
       "│ Colombia       ┆ 286514  │\n",
       "├╌╌╌╌╌╌╌╌╌╌╌╌╌╌╌╌┼╌╌╌╌╌╌╌╌╌┤\n",
       "│ Australia      ┆ 250888  │\n",
       "└────────────────┴─────────┘"
      ]
     },
     "execution_count": 25,
     "metadata": {},
     "output_type": "execute_result"
    }
   ],
   "source": [
    "%time pldf.groupby('country_region').count().sort(by = 'count', reverse=True).head(10)"
   ]
  },
  {
   "cell_type": "code",
   "execution_count": 26,
   "id": "01ecef18-5562-4ea4-941b-e975bc06b4be",
   "metadata": {
    "execution": {
     "iopub.execute_input": "2022-08-05T17:53:24.276143Z",
     "iopub.status.busy": "2022-08-05T17:53:24.274428Z",
     "iopub.status.idle": "2022-08-05T17:53:27.772985Z",
     "shell.execute_reply": "2022-08-05T17:53:27.771378Z",
     "shell.execute_reply.started": "2022-08-05T17:53:24.276070Z"
    }
   },
   "outputs": [
    {
     "name": "stderr",
     "output_type": "stream",
     "text": [
      "UserWarning: sort_values defaulting to pandas implementation.\n"
     ]
    },
    {
     "name": "stdout",
     "output_type": "stream",
     "text": [
      "CPU times: user 669 ms, sys: 104 ms, total: 773 ms\n",
      "Wall time: 3.45 s\n"
     ]
    },
    {
     "data": {
      "text/plain": [
       "country_region\n",
       "United States     2312412\n",
       "Brazil            1808620\n",
       "India              598225\n",
       "Turkey             493512\n",
       "Argentina          378917\n",
       "United Kingdom     374096\n",
       "Poland             346884\n",
       "Netherlands        319961\n",
       "Colombia           286514\n",
       "Australia          250888\n",
       "Name: country_region, dtype: int64"
      ]
     },
     "execution_count": 26,
     "metadata": {},
     "output_type": "execute_result"
    }
   ],
   "source": [
    "%time mddf.groupby('country_region')['country_region'].count().sort_values(ascending=False).head(10)"
   ]
  },
  {
   "cell_type": "code",
   "execution_count": 27,
   "id": "ce5821fe-27f8-410c-bfdb-3b1ccd7a2614",
   "metadata": {
    "execution": {
     "iopub.execute_input": "2022-08-05T17:53:27.774829Z",
     "iopub.status.busy": "2022-08-05T17:53:27.774468Z",
     "iopub.status.idle": "2022-08-05T17:53:28.271746Z",
     "shell.execute_reply": "2022-08-05T17:53:28.270441Z",
     "shell.execute_reply.started": "2022-08-05T17:53:27.774802Z"
    }
   },
   "outputs": [
    {
     "name": "stdout",
     "output_type": "stream",
     "text": [
      "CPU times: user 493 ms, sys: 14.5 ms, total: 508 ms\n",
      "Wall time: 479 ms\n"
     ]
    },
    {
     "data": {
      "text/html": [
       "<div>\n",
       "<style scoped>\n",
       "    .dataframe tbody tr th:only-of-type {\n",
       "        vertical-align: middle;\n",
       "    }\n",
       "\n",
       "    .dataframe tbody tr th {\n",
       "        vertical-align: top;\n",
       "    }\n",
       "\n",
       "    .dataframe thead th {\n",
       "        text-align: right;\n",
       "    }\n",
       "</style>\n",
       "<table border=\"1\" class=\"dataframe\">\n",
       "  <thead>\n",
       "    <tr style=\"text-align: right;\">\n",
       "      <th></th>\n",
       "      <th>country_region</th>\n",
       "      <th>country_region_count</th>\n",
       "    </tr>\n",
       "  </thead>\n",
       "  <tbody>\n",
       "    <tr>\n",
       "      <th>0</th>\n",
       "      <td>United Arab Emirates</td>\n",
       "      <td>7169</td>\n",
       "    </tr>\n",
       "    <tr>\n",
       "      <th>1</th>\n",
       "      <td>Afghanistan</td>\n",
       "      <td>1704</td>\n",
       "    </tr>\n",
       "    <tr>\n",
       "      <th>2</th>\n",
       "      <td>Antigua and Barbuda</td>\n",
       "      <td>3627</td>\n",
       "    </tr>\n",
       "    <tr>\n",
       "      <th>3</th>\n",
       "      <td>Angola</td>\n",
       "      <td>4136</td>\n",
       "    </tr>\n",
       "    <tr>\n",
       "      <th>4</th>\n",
       "      <td>Argentina</td>\n",
       "      <td>378917</td>\n",
       "    </tr>\n",
       "    <tr>\n",
       "      <th>...</th>\n",
       "      <td>...</td>\n",
       "      <td>...</td>\n",
       "    </tr>\n",
       "    <tr>\n",
       "      <th>130</th>\n",
       "      <td>Panama</td>\n",
       "      <td>1794</td>\n",
       "    </tr>\n",
       "    <tr>\n",
       "      <th>131</th>\n",
       "      <td>Peru</td>\n",
       "      <td>117911</td>\n",
       "    </tr>\n",
       "    <tr>\n",
       "      <th>132</th>\n",
       "      <td>Papua New Guinea</td>\n",
       "      <td>894</td>\n",
       "    </tr>\n",
       "    <tr>\n",
       "      <th>133</th>\n",
       "      <td>Philippines</td>\n",
       "      <td>23322</td>\n",
       "    </tr>\n",
       "    <tr>\n",
       "      <th>134</th>\n",
       "      <td>Pakistan</td>\n",
       "      <td>18787</td>\n",
       "    </tr>\n",
       "  </tbody>\n",
       "</table>\n",
       "<p>135 rows × 2 columns</p>\n",
       "</div>"
      ],
      "text/plain": [
       "           country_region  country_region_count\n",
       "0    United Arab Emirates                  7169\n",
       "1             Afghanistan                  1704\n",
       "2     Antigua and Barbuda                  3627\n",
       "3                  Angola                  4136\n",
       "4               Argentina                378917\n",
       "..                    ...                   ...\n",
       "130                Panama                  1794\n",
       "131                  Peru                117911\n",
       "132      Papua New Guinea                   894\n",
       "133           Philippines                 23322\n",
       "134              Pakistan                 18787\n",
       "\n",
       "[135 rows x 2 columns]"
      ]
     },
     "execution_count": 27,
     "metadata": {},
     "output_type": "execute_result"
    }
   ],
   "source": [
    "%time pa.TableGroupBy(padf,'country_region').aggregate([('country_region', \"count\")]).to_pandas()[[\"country_region\",\"country_region_count\"]]"
   ]
  },
  {
   "cell_type": "code",
   "execution_count": 28,
   "id": "0d3e0b80-1c84-474f-9cb4-6e158728bd06",
   "metadata": {
    "execution": {
     "iopub.execute_input": "2022-08-05T17:53:28.276470Z",
     "iopub.status.busy": "2022-08-05T17:53:28.274123Z",
     "iopub.status.idle": "2022-08-05T17:53:28.525136Z",
     "shell.execute_reply": "2022-08-05T17:53:28.520459Z",
     "shell.execute_reply.started": "2022-08-05T17:53:28.276403Z"
    }
   },
   "outputs": [
    {
     "name": "stdout",
     "output_type": "stream",
     "text": [
      "CPU times: user 245 ms, sys: 0 ns, total: 245 ms\n",
      "Wall time: 226 ms\n"
     ]
    },
    {
     "data": {
      "text/plain": [
       "0      {'values': 'United Arab Emirates', 'counts': 7...\n",
       "1              {'values': 'Afghanistan', 'counts': 1704}\n",
       "2      {'values': 'Antigua and Barbuda', 'counts': 3627}\n",
       "3                   {'values': 'Angola', 'counts': 4136}\n",
       "4              {'values': 'Argentina', 'counts': 378917}\n",
       "                             ...                        \n",
       "130                 {'values': 'Panama', 'counts': 1794}\n",
       "131                 {'values': 'Peru', 'counts': 117911}\n",
       "132        {'values': 'Papua New Guinea', 'counts': 894}\n",
       "133           {'values': 'Philippines', 'counts': 23322}\n",
       "134              {'values': 'Pakistan', 'counts': 18787}\n",
       "Length: 135, dtype: object"
      ]
     },
     "execution_count": 28,
     "metadata": {},
     "output_type": "execute_result"
    }
   ],
   "source": [
    "%time  (padf['country_region'].value_counts()).to_pandas()"
   ]
  },
  {
   "cell_type": "markdown",
   "id": "616423d9-0058-457e-9d5e-2d222ac457b7",
   "metadata": {},
   "source": [
    "## GROUPBY OPERATION"
   ]
  },
  {
   "cell_type": "code",
   "execution_count": 29,
   "id": "3b0310e3-657d-45d8-ac25-375a821f97ad",
   "metadata": {
    "execution": {
     "iopub.execute_input": "2022-08-05T17:53:28.526953Z",
     "iopub.status.busy": "2022-08-05T17:53:28.526531Z",
     "iopub.status.idle": "2022-08-05T17:53:35.786704Z",
     "shell.execute_reply": "2022-08-05T17:53:35.783961Z",
     "shell.execute_reply.started": "2022-08-05T17:53:28.526915Z"
    }
   },
   "outputs": [
    {
     "name": "stdout",
     "output_type": "stream",
     "text": [
      "CPU times: user 761 ms, sys: 167 ms, total: 928 ms\n",
      "Wall time: 7.24 s\n"
     ]
    },
    {
     "data": {
      "text/plain": [
       "country_region  date     \n",
       "Afghanistan     April        59.950000\n",
       "                August       56.489362\n",
       "                December     64.064516\n",
       "                February     54.802817\n",
       "                January      60.564516\n",
       "                               ...    \n",
       "Zimbabwe        March        43.189616\n",
       "                May          47.511468\n",
       "                November     47.378092\n",
       "                October      46.393220\n",
       "                September    40.555133\n",
       "Name: grocery_and_pharmacy_percent_change_from_baseline, Length: 1620, dtype: float64"
      ]
     },
     "execution_count": 29,
     "metadata": {},
     "output_type": "execute_result"
    }
   ],
   "source": [
    "%time dddf.groupby(['country_region',dddf.date.dt.month_name() ])['grocery_and_pharmacy_percent_change_from_baseline'].mean().compute()"
   ]
  },
  {
   "cell_type": "code",
   "execution_count": 30,
   "id": "be65847e-9a70-4300-8b9d-935f017fbc84",
   "metadata": {
    "execution": {
     "iopub.execute_input": "2022-08-05T17:53:35.789720Z",
     "iopub.status.busy": "2022-08-05T17:53:35.788777Z",
     "iopub.status.idle": "2022-08-05T17:53:44.623350Z",
     "shell.execute_reply": "2022-08-05T17:53:44.621752Z",
     "shell.execute_reply.started": "2022-08-05T17:53:35.789651Z"
    }
   },
   "outputs": [
    {
     "name": "stdout",
     "output_type": "stream",
     "text": [
      "CPU times: user 5.99 s, sys: 3.28 s, total: 9.27 s\n",
      "Wall time: 8.82 s\n"
     ]
    },
    {
     "data": {
      "text/plain": [
       "country_region  date     \n",
       "Afghanistan     April        59.950000\n",
       "                August       56.489362\n",
       "                December     64.064516\n",
       "                February     54.802817\n",
       "                January      60.564516\n",
       "                               ...    \n",
       "Zimbabwe        March        43.189616\n",
       "                May          47.511468\n",
       "                November     47.378092\n",
       "                October      46.393220\n",
       "                September    40.555133\n",
       "Name: grocery_and_pharmacy_percent_change_from_baseline, Length: 1620, dtype: float64"
      ]
     },
     "execution_count": 30,
     "metadata": {},
     "output_type": "execute_result"
    }
   ],
   "source": [
    "%time pdf.groupby(['country_region',pdf.date.dt.month_name() ])['grocery_and_pharmacy_percent_change_from_baseline'].mean()"
   ]
  },
  {
   "cell_type": "code",
   "execution_count": 31,
   "id": "3f2232f3-ca39-4f34-b811-fed3461f3498",
   "metadata": {
    "execution": {
     "iopub.execute_input": "2022-08-05T17:53:44.627643Z",
     "iopub.status.busy": "2022-08-05T17:53:44.627241Z",
     "iopub.status.idle": "2022-08-05T17:53:46.065126Z",
     "shell.execute_reply": "2022-08-05T17:53:46.059232Z",
     "shell.execute_reply.started": "2022-08-05T17:53:44.627615Z"
    }
   },
   "outputs": [
    {
     "ename": "NotImplementedError",
     "evalue": "Column lookups on GroupBy with arbitrary Series in by is not yet supported.",
     "output_type": "error",
     "traceback": [
      "\u001b[0;31m---------------------------------------------------------------------------\u001b[0m",
      "\u001b[0;31mNotImplementedError\u001b[0m                       Traceback (most recent call last)",
      "Input \u001b[0;32mIn [31]\u001b[0m, in \u001b[0;36m<cell line: 1>\u001b[0;34m()\u001b[0m\n\u001b[0;32m----> 1\u001b[0m \u001b[43mmddf\u001b[49m\u001b[38;5;241;43m.\u001b[39;49m\u001b[43mgroupby\u001b[49m\u001b[43m(\u001b[49m\u001b[43m[\u001b[49m\u001b[38;5;124;43m'\u001b[39;49m\u001b[38;5;124;43mcountry_region\u001b[39;49m\u001b[38;5;124;43m'\u001b[39;49m\u001b[43m,\u001b[49m\u001b[43mmddf\u001b[49m\u001b[38;5;241;43m.\u001b[39;49m\u001b[43mdate\u001b[49m\u001b[38;5;241;43m.\u001b[39;49m\u001b[43mdt\u001b[49m\u001b[38;5;241;43m.\u001b[39;49m\u001b[43mmonth_name\u001b[49m\u001b[43m(\u001b[49m\u001b[43m)\u001b[49m\u001b[43m \u001b[49m\u001b[43m]\u001b[49m\u001b[43m)\u001b[49m\u001b[43m[\u001b[49m\u001b[38;5;124;43m'\u001b[39;49m\u001b[38;5;124;43mgrocery_and_pharmacy_percent_change_from_baseline\u001b[39;49m\u001b[38;5;124;43m'\u001b[39;49m\u001b[43m]\u001b[49m\u001b[38;5;241m.\u001b[39mmean()\n",
      "File \u001b[0;32m/usr/local/lib/python3.9/dist-packages/modin/logging/logger_metaclass.py:68\u001b[0m, in \u001b[0;36mlogger_class_wrapper.<locals>.log_wrap\u001b[0;34m(*args, **kwargs)\u001b[0m\n\u001b[1;32m     66\u001b[0m     logger\u001b[38;5;241m.\u001b[39minfo(\u001b[38;5;124mf\u001b[39m\u001b[38;5;124m\"\u001b[39m\u001b[38;5;124mEND::PANDAS-API::\u001b[39m\u001b[38;5;132;01m{\u001b[39;00mclass_name\u001b[38;5;132;01m}\u001b[39;00m\u001b[38;5;124m.\u001b[39m\u001b[38;5;132;01m{\u001b[39;00mmethod_name\u001b[38;5;132;01m}\u001b[39;00m\u001b[38;5;124m\"\u001b[39m)\n\u001b[1;32m     67\u001b[0m     \u001b[38;5;28;01mreturn\u001b[39;00m result\n\u001b[0;32m---> 68\u001b[0m \u001b[38;5;28;01mreturn\u001b[39;00m \u001b[43mmethod\u001b[49m\u001b[43m(\u001b[49m\u001b[38;5;241;43m*\u001b[39;49m\u001b[43margs\u001b[49m\u001b[43m,\u001b[49m\u001b[43m \u001b[49m\u001b[38;5;241;43m*\u001b[39;49m\u001b[38;5;241;43m*\u001b[39;49m\u001b[43mkwargs\u001b[49m\u001b[43m)\u001b[49m\n",
      "File \u001b[0;32m/usr/local/lib/python3.9/dist-packages/modin/pandas/groupby.py:452\u001b[0m, in \u001b[0;36mDataFrameGroupBy.__getitem__\u001b[0;34m(self, key)\u001b[0m\n\u001b[1;32m    442\u001b[0m     \u001b[38;5;28;01mreturn\u001b[39;00m DataFrameGroupBy(\n\u001b[1;32m    443\u001b[0m         \u001b[38;5;28mself\u001b[39m\u001b[38;5;241m.\u001b[39m_df[key],\n\u001b[1;32m    444\u001b[0m         drop\u001b[38;5;241m=\u001b[39m\u001b[38;5;28mself\u001b[39m\u001b[38;5;241m.\u001b[39m_drop,\n\u001b[1;32m    445\u001b[0m         \u001b[38;5;241m*\u001b[39m\u001b[38;5;241m*\u001b[39mkwargs,\n\u001b[1;32m    446\u001b[0m     )\n\u001b[1;32m    447\u001b[0m \u001b[38;5;28;01mif\u001b[39;00m (\n\u001b[1;32m    448\u001b[0m     \u001b[38;5;28mself\u001b[39m\u001b[38;5;241m.\u001b[39m_is_multi_by\n\u001b[1;32m    449\u001b[0m     \u001b[38;5;129;01mand\u001b[39;00m \u001b[38;5;28misinstance\u001b[39m(\u001b[38;5;28mself\u001b[39m\u001b[38;5;241m.\u001b[39m_by, \u001b[38;5;28mlist\u001b[39m)\n\u001b[1;32m    450\u001b[0m     \u001b[38;5;129;01mand\u001b[39;00m \u001b[38;5;129;01mnot\u001b[39;00m \u001b[38;5;28mall\u001b[39m(hashable(o) \u001b[38;5;129;01mand\u001b[39;00m o \u001b[38;5;129;01min\u001b[39;00m \u001b[38;5;28mself\u001b[39m\u001b[38;5;241m.\u001b[39m_df \u001b[38;5;28;01mfor\u001b[39;00m o \u001b[38;5;129;01min\u001b[39;00m \u001b[38;5;28mself\u001b[39m\u001b[38;5;241m.\u001b[39m_by)\n\u001b[1;32m    451\u001b[0m ):\n\u001b[0;32m--> 452\u001b[0m     \u001b[38;5;28;01mraise\u001b[39;00m \u001b[38;5;167;01mNotImplementedError\u001b[39;00m(\n\u001b[1;32m    453\u001b[0m         \u001b[38;5;124m\"\u001b[39m\u001b[38;5;124mColumn lookups on GroupBy with arbitrary Series in by\u001b[39m\u001b[38;5;124m\"\u001b[39m\n\u001b[1;32m    454\u001b[0m         \u001b[38;5;241m+\u001b[39m \u001b[38;5;124m\"\u001b[39m\u001b[38;5;124m is not yet supported.\u001b[39m\u001b[38;5;124m\"\u001b[39m\n\u001b[1;32m    455\u001b[0m     )\n\u001b[1;32m    456\u001b[0m \u001b[38;5;28;01mreturn\u001b[39;00m SeriesGroupBy(\n\u001b[1;32m    457\u001b[0m     \u001b[38;5;28mself\u001b[39m\u001b[38;5;241m.\u001b[39m_df[key],\n\u001b[1;32m    458\u001b[0m     drop\u001b[38;5;241m=\u001b[39m\u001b[38;5;28;01mFalse\u001b[39;00m,\n\u001b[1;32m    459\u001b[0m     \u001b[38;5;241m*\u001b[39m\u001b[38;5;241m*\u001b[39mkwargs,\n\u001b[1;32m    460\u001b[0m )\n",
      "\u001b[0;31mNotImplementedError\u001b[0m: Column lookups on GroupBy with arbitrary Series in by is not yet supported."
     ]
    }
   ],
   "source": [
    "mddf.groupby(['country_region',mddf.date.dt.month_name() ])['grocery_and_pharmacy_percent_change_from_baseline'].mean()"
   ]
  },
  {
   "cell_type": "code",
   "execution_count": 32,
   "id": "edeb7d24-fa34-4a28-bc1e-bb9def66f874",
   "metadata": {
    "execution": {
     "iopub.execute_input": "2022-08-05T17:54:14.817604Z",
     "iopub.status.busy": "2022-08-05T17:54:14.817122Z",
     "iopub.status.idle": "2022-08-05T17:54:36.110277Z",
     "shell.execute_reply": "2022-08-05T17:54:36.103299Z",
     "shell.execute_reply.started": "2022-08-05T17:54:14.817573Z"
    }
   },
   "outputs": [
    {
     "name": "stdout",
     "output_type": "stream",
     "text": [
      "CPU times: user 1.97 s, sys: 472 ms, total: 2.44 s\n",
      "Wall time: 20.9 s\n"
     ]
    },
    {
     "data": {
      "text/plain": [
       "country_region  month    \n",
       "Afghanistan     April        59.950000\n",
       "                August       56.489362\n",
       "                December     64.064516\n",
       "                February     54.802817\n",
       "                January      60.564516\n",
       "                               ...    \n",
       "Zimbabwe        March        43.189616\n",
       "                May          47.511468\n",
       "                November     47.378092\n",
       "                October      46.393220\n",
       "                September    40.555133\n",
       "Name: grocery_and_pharmacy_percent_change_from_baseline, Length: 1620, dtype: float64"
      ]
     },
     "execution_count": 32,
     "metadata": {},
     "output_type": "execute_result"
    }
   ],
   "source": [
    "%%time\n",
    "(mddf[['country_region','date', 'grocery_and_pharmacy_percent_change_from_baseline']]\n",
    " .assign(month = mddf.date.dt.month_name())\n",
    " .drop('date',axis=1)\n",
    ").groupby(['country_region','month'])['grocery_and_pharmacy_percent_change_from_baseline'].mean()"
   ]
  },
  {
   "cell_type": "code",
   "execution_count": 33,
   "id": "68562386-a02b-4691-9f29-1f605b81c7f1",
   "metadata": {
    "execution": {
     "iopub.execute_input": "2022-08-05T17:54:39.524185Z",
     "iopub.status.busy": "2022-08-05T17:54:39.523722Z",
     "iopub.status.idle": "2022-08-05T17:54:39.537111Z",
     "shell.execute_reply": "2022-08-05T17:54:39.535136Z",
     "shell.execute_reply.started": "2022-08-05T17:54:39.524157Z"
    }
   },
   "outputs": [
    {
     "data": {
      "text/plain": [
       "{'1': 'January',\n",
       " '2': 'February',\n",
       " '3': 'March',\n",
       " '4': 'April',\n",
       " '5': 'May',\n",
       " '6': 'June',\n",
       " '7': 'July',\n",
       " '8': 'August',\n",
       " '9': 'September',\n",
       " '10': 'October',\n",
       " '11': 'November',\n",
       " '12': 'December'}"
      ]
     },
     "execution_count": 33,
     "metadata": {},
     "output_type": "execute_result"
    }
   ],
   "source": [
    "month_names = {\"1\":\"January\", \"2\":\"February\", \"3\":\"March\",\"4\":\"April\",\"5\":\"May\",\"6\":\"June\",\"7\":\"July\",\"8\":\"August\",\"9\":\"September\",\"10\":\"October\",\"11\":\"November\",\"12\":\"December\"}\n",
    "month_names"
   ]
  },
  {
   "cell_type": "code",
   "execution_count": 34,
   "id": "5d3775fc-a6a9-41db-8c29-3eacedeef7ae",
   "metadata": {
    "execution": {
     "iopub.execute_input": "2022-08-05T17:54:41.501845Z",
     "iopub.status.busy": "2022-08-05T17:54:41.501344Z",
     "iopub.status.idle": "2022-08-05T17:54:49.323406Z",
     "shell.execute_reply": "2022-08-05T17:54:49.321931Z",
     "shell.execute_reply.started": "2022-08-05T17:54:41.501813Z"
    }
   },
   "outputs": [
    {
     "name": "stdout",
     "output_type": "stream",
     "text": [
      "CPU times: user 7.36 s, sys: 2.07 s, total: 9.43 s\n",
      "Wall time: 7.79 s\n"
     ]
    },
    {
     "data": {
      "text/html": [
       "<div>\n",
       "<style scoped>\n",
       "    .dataframe tbody tr th:only-of-type {\n",
       "        vertical-align: middle;\n",
       "    }\n",
       "\n",
       "    .dataframe tbody tr th {\n",
       "        vertical-align: top;\n",
       "    }\n",
       "\n",
       "    .dataframe thead th {\n",
       "        text-align: right;\n",
       "    }\n",
       "\n",
       "    .dataframe td {\n",
       "        white-space: pre;\n",
       "    }\n",
       "\n",
       "    .dataframe td {\n",
       "        padding-top: 0;\n",
       "    }\n",
       "\n",
       "    .dataframe td {\n",
       "        padding-bottom: 0;\n",
       "    }\n",
       "\n",
       "    .dataframe td {\n",
       "        line-height: 95%;\n",
       "    }\n",
       "</style>\n",
       "<table border=\"1\" class=\"dataframe\" >\n",
       "<small>shape: (1620, 3)</small>\n",
       "<thead>\n",
       "<tr>\n",
       "<th>\n",
       "country_region\n",
       "</th>\n",
       "<th>\n",
       "date\n",
       "</th>\n",
       "<th>\n",
       "mean\n",
       "</th>\n",
       "</tr>\n",
       "<tr>\n",
       "<td>\n",
       "str\n",
       "</td>\n",
       "<td>\n",
       "str\n",
       "</td>\n",
       "<td>\n",
       "f64\n",
       "</td>\n",
       "</tr>\n",
       "</thead>\n",
       "<tbody>\n",
       "<tr>\n",
       "<td>\n",
       "\"Afghanistan\"\n",
       "</td>\n",
       "<td>\n",
       "\"April\"\n",
       "</td>\n",
       "<td>\n",
       "59.95\n",
       "</td>\n",
       "</tr>\n",
       "<tr>\n",
       "<td>\n",
       "\"Afghanistan\"\n",
       "</td>\n",
       "<td>\n",
       "\"August\"\n",
       "</td>\n",
       "<td>\n",
       "56.489362\n",
       "</td>\n",
       "</tr>\n",
       "<tr>\n",
       "<td>\n",
       "\"Afghanistan\"\n",
       "</td>\n",
       "<td>\n",
       "\"December\"\n",
       "</td>\n",
       "<td>\n",
       "64.064516\n",
       "</td>\n",
       "</tr>\n",
       "<tr>\n",
       "<td>\n",
       "\"Afghanistan\"\n",
       "</td>\n",
       "<td>\n",
       "\"February\"\n",
       "</td>\n",
       "<td>\n",
       "54.802817\n",
       "</td>\n",
       "</tr>\n",
       "<tr>\n",
       "<td>\n",
       "\"Afghanistan\"\n",
       "</td>\n",
       "<td>\n",
       "\"January\"\n",
       "</td>\n",
       "<td>\n",
       "60.564516\n",
       "</td>\n",
       "</tr>\n",
       "<tr>\n",
       "<td>\n",
       "\"Afghanistan\"\n",
       "</td>\n",
       "<td>\n",
       "\"July\"\n",
       "</td>\n",
       "<td>\n",
       "85.522222\n",
       "</td>\n",
       "</tr>\n",
       "<tr>\n",
       "<td>\n",
       "\"Afghanistan\"\n",
       "</td>\n",
       "<td>\n",
       "\"June\"\n",
       "</td>\n",
       "<td>\n",
       "118.475\n",
       "</td>\n",
       "</tr>\n",
       "<tr>\n",
       "<td>\n",
       "\"Afghanistan\"\n",
       "</td>\n",
       "<td>\n",
       "\"March\"\n",
       "</td>\n",
       "<td>\n",
       "70.295699\n",
       "</td>\n",
       "</tr>\n",
       "<tr>\n",
       "<td>\n",
       "\"Afghanistan\"\n",
       "</td>\n",
       "<td>\n",
       "\"May\"\n",
       "</td>\n",
       "<td>\n",
       "87.64375\n",
       "</td>\n",
       "</tr>\n",
       "<tr>\n",
       "<td>\n",
       "\"Afghanistan\"\n",
       "</td>\n",
       "<td>\n",
       "\"November\"\n",
       "</td>\n",
       "<td>\n",
       "65.591667\n",
       "</td>\n",
       "</tr>\n",
       "<tr>\n",
       "<td>\n",
       "\"Afghanistan\"\n",
       "</td>\n",
       "<td>\n",
       "\"October\"\n",
       "</td>\n",
       "<td>\n",
       "62.5887\n",
       "</td>\n",
       "</tr>\n",
       "<tr>\n",
       "<td>\n",
       "\"Afghanistan\"\n",
       "</td>\n",
       "<td>\n",
       "\"September\"\n",
       "</td>\n",
       "<td>\n",
       "60.01\n",
       "</td>\n",
       "</tr>\n",
       "<tr>\n",
       "<td>\n",
       "...\n",
       "</td>\n",
       "<td>\n",
       "...\n",
       "</td>\n",
       "<td>\n",
       "...\n",
       "</td>\n",
       "</tr>\n",
       "<tr>\n",
       "<td>\n",
       "\"Zimbabwe\"\n",
       "</td>\n",
       "<td>\n",
       "\"April\"\n",
       "</td>\n",
       "<td>\n",
       "29.117371\n",
       "</td>\n",
       "</tr>\n",
       "<tr>\n",
       "<td>\n",
       "\"Zimbabwe\"\n",
       "</td>\n",
       "<td>\n",
       "\"August\"\n",
       "</td>\n",
       "<td>\n",
       "25.034221\n",
       "</td>\n",
       "</tr>\n",
       "<tr>\n",
       "<td>\n",
       "\"Zimbabwe\"\n",
       "</td>\n",
       "<td>\n",
       "\"December\"\n",
       "</td>\n",
       "<td>\n",
       "56.020339\n",
       "</td>\n",
       "</tr>\n",
       "<tr>\n",
       "<td>\n",
       "\"Zimbabwe\"\n",
       "</td>\n",
       "<td>\n",
       "\"February\"\n",
       "</td>\n",
       "<td>\n",
       "35.313783\n",
       "</td>\n",
       "</tr>\n",
       "<tr>\n",
       "<td>\n",
       "\"Zimbabwe\"\n",
       "</td>\n",
       "<td>\n",
       "\"January\"\n",
       "</td>\n",
       "<td>\n",
       "28.176871\n",
       "</td>\n",
       "</tr>\n",
       "<tr>\n",
       "<td>\n",
       "\"Zimbabwe\"\n",
       "</td>\n",
       "<td>\n",
       "\"July\"\n",
       "</td>\n",
       "<td>\n",
       "50.683603\n",
       "</td>\n",
       "</tr>\n",
       "<tr>\n",
       "<td>\n",
       "\"Zimbabwe\"\n",
       "</td>\n",
       "<td>\n",
       "\"June\"\n",
       "</td>\n",
       "<td>\n",
       "53.247059\n",
       "</td>\n",
       "</tr>\n",
       "<tr>\n",
       "<td>\n",
       "\"Zimbabwe\"\n",
       "</td>\n",
       "<td>\n",
       "\"March\"\n",
       "</td>\n",
       "<td>\n",
       "43.189616\n",
       "</td>\n",
       "</tr>\n",
       "<tr>\n",
       "<td>\n",
       "\"Zimbabwe\"\n",
       "</td>\n",
       "<td>\n",
       "\"May\"\n",
       "</td>\n",
       "<td>\n",
       "47.511468\n",
       "</td>\n",
       "</tr>\n",
       "<tr>\n",
       "<td>\n",
       "\"Zimbabwe\"\n",
       "</td>\n",
       "<td>\n",
       "\"November\"\n",
       "</td>\n",
       "<td>\n",
       "47.378092\n",
       "</td>\n",
       "</tr>\n",
       "<tr>\n",
       "<td>\n",
       "\"Zimbabwe\"\n",
       "</td>\n",
       "<td>\n",
       "\"October\"\n",
       "</td>\n",
       "<td>\n",
       "46.3932\n",
       "</td>\n",
       "</tr>\n",
       "<tr>\n",
       "<td>\n",
       "\"Zimbabwe\"\n",
       "</td>\n",
       "<td>\n",
       "\"September\"\n",
       "</td>\n",
       "<td>\n",
       "40.555133\n",
       "</td>\n",
       "</tr>\n",
       "</tbody>\n",
       "</table>\n",
       "</div>"
      ],
      "text/plain": [
       "shape: (1620, 3)\n",
       "┌────────────────┬───────────┬───────────┐\n",
       "│ country_region ┆ date      ┆ mean      │\n",
       "│ ---            ┆ ---       ┆ ---       │\n",
       "│ str            ┆ str       ┆ f64       │\n",
       "╞════════════════╪═══════════╪═══════════╡\n",
       "│ Afghanistan    ┆ April     ┆ 59.95     │\n",
       "├╌╌╌╌╌╌╌╌╌╌╌╌╌╌╌╌┼╌╌╌╌╌╌╌╌╌╌╌┼╌╌╌╌╌╌╌╌╌╌╌┤\n",
       "│ Afghanistan    ┆ August    ┆ 56.489362 │\n",
       "├╌╌╌╌╌╌╌╌╌╌╌╌╌╌╌╌┼╌╌╌╌╌╌╌╌╌╌╌┼╌╌╌╌╌╌╌╌╌╌╌┤\n",
       "│ Afghanistan    ┆ December  ┆ 64.064516 │\n",
       "├╌╌╌╌╌╌╌╌╌╌╌╌╌╌╌╌┼╌╌╌╌╌╌╌╌╌╌╌┼╌╌╌╌╌╌╌╌╌╌╌┤\n",
       "│ Afghanistan    ┆ February  ┆ 54.802817 │\n",
       "├╌╌╌╌╌╌╌╌╌╌╌╌╌╌╌╌┼╌╌╌╌╌╌╌╌╌╌╌┼╌╌╌╌╌╌╌╌╌╌╌┤\n",
       "│ ...            ┆ ...       ┆ ...       │\n",
       "├╌╌╌╌╌╌╌╌╌╌╌╌╌╌╌╌┼╌╌╌╌╌╌╌╌╌╌╌┼╌╌╌╌╌╌╌╌╌╌╌┤\n",
       "│ Zimbabwe       ┆ May       ┆ 47.511468 │\n",
       "├╌╌╌╌╌╌╌╌╌╌╌╌╌╌╌╌┼╌╌╌╌╌╌╌╌╌╌╌┼╌╌╌╌╌╌╌╌╌╌╌┤\n",
       "│ Zimbabwe       ┆ November  ┆ 47.378092 │\n",
       "├╌╌╌╌╌╌╌╌╌╌╌╌╌╌╌╌┼╌╌╌╌╌╌╌╌╌╌╌┼╌╌╌╌╌╌╌╌╌╌╌┤\n",
       "│ Zimbabwe       ┆ October   ┆ 46.3932   │\n",
       "├╌╌╌╌╌╌╌╌╌╌╌╌╌╌╌╌┼╌╌╌╌╌╌╌╌╌╌╌┼╌╌╌╌╌╌╌╌╌╌╌┤\n",
       "│ Zimbabwe       ┆ September ┆ 40.555133 │\n",
       "└────────────────┴───────────┴───────────┘"
      ]
     },
     "execution_count": 34,
     "metadata": {},
     "output_type": "execute_result"
    }
   ],
   "source": [
    "%%time\n",
    "(\n",
    "(pldf[['country_region','date', 'grocery_and_pharmacy_percent_change_from_baseline']]\n",
    " .with_column(pldf['date'].dt.month()\n",
    "              .cast(str)\n",
    "              .apply(lambda month:month_names.get(month)))\n",
    " \n",
    ")\n",
    "    .groupby(['country_region','date']).agg([pl.col('grocery_and_pharmacy_percent_change_from_baseline').mean().alias(\"mean\")])\n",
    "    .sort(by=[\"country_region\",\"date\"])\n",
    ")"
   ]
  },
  {
   "cell_type": "code",
   "execution_count": 35,
   "id": "a9d2114b-0e83-4abc-a842-446a17bed70a",
   "metadata": {
    "execution": {
     "iopub.execute_input": "2022-08-05T17:54:49.327215Z",
     "iopub.status.busy": "2022-08-05T17:54:49.326025Z",
     "iopub.status.idle": "2022-08-05T17:54:50.175401Z",
     "shell.execute_reply": "2022-08-05T17:54:50.174398Z",
     "shell.execute_reply.started": "2022-08-05T17:54:49.327169Z"
    }
   },
   "outputs": [
    {
     "name": "stdout",
     "output_type": "stream",
     "text": [
      "CPU times: user 820 ms, sys: 77.4 ms, total: 898 ms\n",
      "Wall time: 831 ms\n"
     ]
    },
    {
     "data": {
      "text/html": [
       "<div>\n",
       "<style scoped>\n",
       "    .dataframe tbody tr th:only-of-type {\n",
       "        vertical-align: middle;\n",
       "    }\n",
       "\n",
       "    .dataframe tbody tr th {\n",
       "        vertical-align: top;\n",
       "    }\n",
       "\n",
       "    .dataframe thead th {\n",
       "        text-align: right;\n",
       "    }\n",
       "</style>\n",
       "<table border=\"1\" class=\"dataframe\">\n",
       "  <thead>\n",
       "    <tr style=\"text-align: right;\">\n",
       "      <th></th>\n",
       "      <th>country_region</th>\n",
       "      <th>month</th>\n",
       "      <th>grocery_and_pharmacy_percent_change_from_baseline_mean</th>\n",
       "    </tr>\n",
       "  </thead>\n",
       "  <tbody>\n",
       "    <tr>\n",
       "      <th>22</th>\n",
       "      <td>Afghanistan</td>\n",
       "      <td>1</td>\n",
       "      <td>60.564516</td>\n",
       "    </tr>\n",
       "    <tr>\n",
       "      <th>12</th>\n",
       "      <td>Afghanistan</td>\n",
       "      <td>2</td>\n",
       "      <td>54.802817</td>\n",
       "    </tr>\n",
       "    <tr>\n",
       "      <th>13</th>\n",
       "      <td>Afghanistan</td>\n",
       "      <td>3</td>\n",
       "      <td>70.295699</td>\n",
       "    </tr>\n",
       "    <tr>\n",
       "      <th>14</th>\n",
       "      <td>Afghanistan</td>\n",
       "      <td>4</td>\n",
       "      <td>59.950000</td>\n",
       "    </tr>\n",
       "    <tr>\n",
       "      <th>15</th>\n",
       "      <td>Afghanistan</td>\n",
       "      <td>5</td>\n",
       "      <td>87.643750</td>\n",
       "    </tr>\n",
       "    <tr>\n",
       "      <th>...</th>\n",
       "      <td>...</td>\n",
       "      <td>...</td>\n",
       "      <td>...</td>\n",
       "    </tr>\n",
       "    <tr>\n",
       "      <th>618</th>\n",
       "      <td>Zimbabwe</td>\n",
       "      <td>8</td>\n",
       "      <td>25.034221</td>\n",
       "    </tr>\n",
       "    <tr>\n",
       "      <th>619</th>\n",
       "      <td>Zimbabwe</td>\n",
       "      <td>9</td>\n",
       "      <td>40.555133</td>\n",
       "    </tr>\n",
       "    <tr>\n",
       "      <th>620</th>\n",
       "      <td>Zimbabwe</td>\n",
       "      <td>10</td>\n",
       "      <td>46.393220</td>\n",
       "    </tr>\n",
       "    <tr>\n",
       "      <th>621</th>\n",
       "      <td>Zimbabwe</td>\n",
       "      <td>11</td>\n",
       "      <td>47.378092</td>\n",
       "    </tr>\n",
       "    <tr>\n",
       "      <th>622</th>\n",
       "      <td>Zimbabwe</td>\n",
       "      <td>12</td>\n",
       "      <td>56.020339</td>\n",
       "    </tr>\n",
       "  </tbody>\n",
       "</table>\n",
       "<p>1620 rows × 3 columns</p>\n",
       "</div>"
      ],
      "text/plain": [
       "    country_region  month  \\\n",
       "22     Afghanistan      1   \n",
       "12     Afghanistan      2   \n",
       "13     Afghanistan      3   \n",
       "14     Afghanistan      4   \n",
       "15     Afghanistan      5   \n",
       "..             ...    ...   \n",
       "618       Zimbabwe      8   \n",
       "619       Zimbabwe      9   \n",
       "620       Zimbabwe     10   \n",
       "621       Zimbabwe     11   \n",
       "622       Zimbabwe     12   \n",
       "\n",
       "     grocery_and_pharmacy_percent_change_from_baseline_mean  \n",
       "22                                           60.564516       \n",
       "12                                           54.802817       \n",
       "13                                           70.295699       \n",
       "14                                           59.950000       \n",
       "15                                           87.643750       \n",
       "..                                                 ...       \n",
       "618                                          25.034221       \n",
       "619                                          40.555133       \n",
       "620                                          46.393220       \n",
       "621                                          47.378092       \n",
       "622                                          56.020339       \n",
       "\n",
       "[1620 rows x 3 columns]"
      ]
     },
     "execution_count": 35,
     "metadata": {},
     "output_type": "execute_result"
    }
   ],
   "source": [
    "%%time\n",
    "padf2 = padf.append_column(\"month\",pc.month(padf['date']))\n",
    "(pa.TableGroupBy(padf2,['country_region', \"month\"])\n",
    " .aggregate([(\"grocery_and_pharmacy_percent_change_from_baseline\", \"mean\")])\n",
    ").to_pandas()[['country_region','month','grocery_and_pharmacy_percent_change_from_baseline_mean']].sort_values(by = ['country_region','month'])\n",
    "    "
   ]
  },
  {
   "cell_type": "markdown",
   "id": "e2e17470-d80c-4f00-bdd7-474f8b5b4d05",
   "metadata": {},
   "source": [
    "Pyarrow is crazy fast but doesnsn't follow pandas API, requires passing df to pandas. Polars is fast and almost similar to pandas. Modin is slower than pandas. "
   ]
  },
  {
   "cell_type": "code",
   "execution_count": null,
   "id": "046fd494-8bab-47e4-ae8b-1974faf10417",
   "metadata": {},
   "outputs": [],
   "source": []
  }
 ],
 "metadata": {
  "kernelspec": {
   "display_name": "Python 3 (ipykernel)",
   "language": "python",
   "name": "python3"
  },
  "language_info": {
   "codemirror_mode": {
    "name": "ipython",
    "version": 3
   },
   "file_extension": ".py",
   "mimetype": "text/x-python",
   "name": "python",
   "nbconvert_exporter": "python",
   "pygments_lexer": "ipython3",
   "version": "3.9.13"
  }
 },
 "nbformat": 4,
 "nbformat_minor": 5
}
